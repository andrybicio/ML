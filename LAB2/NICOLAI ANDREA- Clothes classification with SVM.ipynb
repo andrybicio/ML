{
 "cells": [
  {
   "cell_type": "markdown",
   "metadata": {},
   "source": [
    "# Clothes Classification with Support Vector Machines\n",
    "\n",
    "In this notebook we are going to explore the use of Support Vector Machines (SVM) for image classification. We are going to use a new version of the famous MNIST dataset (the original is a dataset of handwritten digits). The version we are going to use is called Fashion MNIST (https://pravarmahajan.github.io/fashion/) and is a dataset of small images of clothes and accessories.\n",
    "\n",
    "\n",
    "\n",
    "The dataset labels are the following:\n",
    "\n",
    "| Label | Description |\n",
    "| --- | --- |\n",
    "| 0 | T-shirt/top |\n",
    "| 1 | Trouser |\n",
    "| 2 | Pullover |\n",
    "| 3 | Dress |\n",
    "| 4 | Coat |\n",
    "| 5 | Sandal |\n",
    "| 6 | Shirt |\n",
    "| 7 | Sneaker |\n",
    "| 8 | Bag |\n",
    "| 9 | Ankle boot |"
   ]
  },
  {
   "cell_type": "markdown",
   "metadata": {},
   "source": [
    "## TODO: Insert your surname, name and ID number\n",
    "\n",
    "Student name: Nicolai Andrea\n",
    "    \n",
    "ID: 1233407"
   ]
  },
  {
   "cell_type": "code",
   "execution_count": 1,
   "metadata": {},
   "outputs": [],
   "source": [
    "#load the required packages\n",
    "\n",
    "%matplotlib inline  \n",
    "\n",
    "import numpy as np\n",
    "import scipy as sp\n",
    "import matplotlib.pyplot as plt\n",
    "import pandas as pd\n",
    "import seaborn as sns\n",
    "\n",
    "import sklearn\n",
    "from sklearn.datasets import fetch_mldata\n",
    "from sklearn.neural_network import MLPClassifier\n",
    "import sklearn.metrics as skm"
   ]
  },
  {
   "cell_type": "code",
   "execution_count": 2,
   "metadata": {},
   "outputs": [],
   "source": [
    "# helper function to load Fashion MNIST dataset\n",
    "def load_mnist(path, kind='train'):\n",
    "    import os\n",
    "    import gzip\n",
    "    import numpy as np\n",
    "    labels_path = os.path.join(path, '%s-labels-idx1-ubyte.gz' % kind)\n",
    "    images_path = os.path.join(path, '%s-images-idx3-ubyte.gz' % kind)\n",
    "    with gzip.open(labels_path, 'rb') as lbpath:\n",
    "        labels = np.frombuffer(lbpath.read(), dtype=np.uint8,offset=8)\n",
    "    with gzip.open(images_path, 'rb') as imgpath:\n",
    "        images = np.frombuffer(imgpath.read(), dtype=np.uint8,offset=16).reshape(len(labels), 784)\n",
    "    return images, labels"
   ]
  },
  {
   "cell_type": "code",
   "execution_count": 3,
   "metadata": {},
   "outputs": [],
   "source": [
    "#fix your ID (\"numero di matricola\") and the seed for random generator (as usual you can try different seeds)\n",
    "ID = 1233407\n",
    "np.random.seed(ID)"
   ]
  },
  {
   "cell_type": "code",
   "execution_count": 4,
   "metadata": {},
   "outputs": [
    {
     "name": "stdout",
     "output_type": "stream",
     "text": [
      "(60000, 784) (60000,)\n"
     ]
    }
   ],
   "source": [
    "#load the Fashion MNIST dataset from the 'data' folder and let's normalize the features so that each value is in [0,1] \n",
    "\n",
    "X, y = load_mnist('data', kind='train')\n",
    "# rescale the data\n",
    "X, y = X / 255., y # original pixel values are between 0 and 255\n",
    "print(X.shape, y.shape)"
   ]
  },
  {
   "cell_type": "markdown",
   "metadata": {},
   "source": [
    "Now split into training and test. Make sure that each label is present at least 10 times\n",
    "in training. If it is not, then keep adding permutations to the initial data until this \n",
    "happens."
   ]
  },
  {
   "cell_type": "code",
   "execution_count": 5,
   "metadata": {},
   "outputs": [
    {
     "name": "stdout",
     "output_type": "stream",
     "text": [
      "Labels in training dataset:  [0 1 2 3 4 5 6 7 8 9]\n",
      "Frequencies in training dataset:  [42 56 46 58 47 54 49 49 46 53]\n"
     ]
    }
   ],
   "source": [
    "#random permute the data and split into training and test taking the first 500\n",
    "#data samples as training and the rests as test\n",
    "permutation = np.random.permutation(X.shape[0])\n",
    "\n",
    "X = X[permutation]\n",
    "y = y[permutation]\n",
    "\n",
    "m_training = 500\n",
    "\n",
    "X_train, X_test = X[:m_training], X[m_training:]\n",
    "y_train, y_test = y[:m_training], y[m_training:]\n",
    "\n",
    "labels, freqs = np.unique(y_train, return_counts=True)\n",
    "print(\"Labels in training dataset: \", labels)\n",
    "print(\"Frequencies in training dataset: \", freqs)\n"
   ]
  },
  {
   "cell_type": "code",
   "execution_count": 6,
   "metadata": {},
   "outputs": [],
   "source": [
    "#function for plotting a image and printing the corresponding label\n",
    "def plot_input(X_matrix, labels, index):\n",
    "    print(\"INPUT:\")\n",
    "    plt.imshow(\n",
    "        X_matrix[index].reshape(28,28),\n",
    "        cmap          = plt.cm.gray_r,\n",
    "        interpolation = \"nearest\"\n",
    "    )\n",
    "    plt.show()\n",
    "    print(\"LABEL: %i\"%labels[index])\n",
    "    return"
   ]
  },
  {
   "cell_type": "code",
   "execution_count": 7,
   "metadata": {},
   "outputs": [
    {
     "name": "stdout",
     "output_type": "stream",
     "text": [
      "INPUT:\n"
     ]
    },
    {
     "data": {
      "image/png": "[encoded data removed]",
      "text/plain": [
       "<Figure size 432x288 with 1 Axes>"
      ]
     },
     "metadata": {
      "needs_background": "light"
     },
     "output_type": "display_data"
    },
    {
     "name": "stdout",
     "output_type": "stream",
     "text": [
      "LABEL: 0\n",
      "INPUT:\n"
     ]
    },
    {
     "data": {
      "image/png": "[encoded data removed]",
      "text/plain": [
       "<Figure size 432x288 with 1 Axes>"
      ]
     },
     "metadata": {
      "needs_background": "light"
     },
     "output_type": "display_data"
    },
    {
     "name": "stdout",
     "output_type": "stream",
     "text": [
      "LABEL: 3\n",
      "INPUT:\n"
     ]
    },
    {
     "data": {
      "image/png": "[encoded data removed]",
      "text/plain": [
       "<Figure size 432x288 with 1 Axes>"
      ]
     },
     "metadata": {
      "needs_background": "light"
     },
     "output_type": "display_data"
    },
    {
     "name": "stdout",
     "output_type": "stream",
     "text": [
      "LABEL: 5\n",
      "INPUT:\n"
     ]
    },
    {
     "data": {
      "image/png": "[encoded data removed]",
      "text/plain": [
       "<Figure size 432x288 with 1 Axes>"
      ]
     },
     "metadata": {
      "needs_background": "light"
     },
     "output_type": "display_data"
    },
    {
     "name": "stdout",
     "output_type": "stream",
     "text": [
      "LABEL: 8\n",
      "INPUT:\n"
     ]
    },
    {
     "data": {
      "image/png": "[encoded data removed]",
      "text/plain": [
       "<Figure size 432x288 with 1 Axes>"
      ]
     },
     "metadata": {
      "needs_background": "light"
     },
     "output_type": "display_data"
    },
    {
     "name": "stdout",
     "output_type": "stream",
     "text": [
      "LABEL: 2\n",
      "INPUT:\n"
     ]
    },
    {
     "data": {
      "image/png": "[encoded data removed]",
      "text/plain": [
       "<Figure size 432x288 with 1 Axes>"
      ]
     },
     "metadata": {
      "needs_background": "light"
     },
     "output_type": "display_data"
    },
    {
     "name": "stdout",
     "output_type": "stream",
     "text": [
      "LABEL: 5\n"
     ]
    }
   ],
   "source": [
    "#let's try the plotting function\n",
    "plot_input(X_train,y_train,5)\n",
    "plot_input(X_train,y_train,4)\n",
    "plot_input(X_train,y_train,20)\n",
    "plot_input(X_test,y_test,50)\n",
    "plot_input(X_test,y_test,500)\n",
    "plot_input(X_test,y_test,5000)"
   ]
  },
  {
   "cell_type": "markdown",
   "metadata": {},
   "source": [
    "## TO DO 1\n",
    "Use a SVM classifier with cross validation to pick a model. Use a 4-fold cross-validation. Let's start with a Linear kernel:"
   ]
  },
  {
   "cell_type": "code",
   "execution_count": 8,
   "metadata": {},
   "outputs": [
    {
     "name": "stdout",
     "output_type": "stream",
     "text": [
      "RESULTS FOR LINEAR KERNEL\n",
      "Best parameters set found: {'C': 0.5}\n",
      "Score with best parameters: 0.798\n",
      "All scores on the grid:\n"
     ]
    },
    {
     "name": "stderr",
     "output_type": "stream",
     "text": [
      "/home/andrea/anaconda3/lib/python3.7/site-packages/sklearn/model_selection/_search.py:813: DeprecationWarning: The default of the `iid` parameter will change from True to False in version 0.22 and will be removed in 0.24. This will change numeric results when test-set sizes are unequal.\n",
      "  DeprecationWarning)\n"
     ]
    },
    {
     "data": {
      "text/html": [
       "<div>\n",
       "<style scoped>\n",
       "    .dataframe tbody tr th:only-of-type {\n",
       "        vertical-align: middle;\n",
       "    }\n",
       "\n",
       "    .dataframe tbody tr th {\n",
       "        vertical-align: top;\n",
       "    }\n",
       "\n",
       "    .dataframe thead th {\n",
       "        text-align: right;\n",
       "    }\n",
       "</style>\n",
       "<table border=\"1\" class=\"dataframe\">\n",
       "  <thead>\n",
       "    <tr style=\"text-align: right;\">\n",
       "      <th></th>\n",
       "      <th>rank_test_score</th>\n",
       "      <th>param_C</th>\n",
       "      <th>mean_test_score</th>\n",
       "      <th>std_test_score</th>\n",
       "      <th>mean_fit_time</th>\n",
       "      <th>std_fit_time</th>\n",
       "      <th>mean_score_time</th>\n",
       "      <th>std_score_time</th>\n",
       "    </tr>\n",
       "  </thead>\n",
       "  <tbody>\n",
       "    <tr>\n",
       "      <th>3</th>\n",
       "      <td>1</td>\n",
       "      <td>0.5</td>\n",
       "      <td>0.798</td>\n",
       "      <td>0.023352</td>\n",
       "      <td>0.071417</td>\n",
       "      <td>0.002088</td>\n",
       "      <td>0.024174</td>\n",
       "      <td>0.000517</td>\n",
       "    </tr>\n",
       "    <tr>\n",
       "      <th>4</th>\n",
       "      <td>1</td>\n",
       "      <td>5</td>\n",
       "      <td>0.798</td>\n",
       "      <td>0.023352</td>\n",
       "      <td>0.069405</td>\n",
       "      <td>0.002648</td>\n",
       "      <td>0.024142</td>\n",
       "      <td>0.000326</td>\n",
       "    </tr>\n",
       "    <tr>\n",
       "      <th>5</th>\n",
       "      <td>1</td>\n",
       "      <td>50</td>\n",
       "      <td>0.798</td>\n",
       "      <td>0.023352</td>\n",
       "      <td>0.070700</td>\n",
       "      <td>0.001447</td>\n",
       "      <td>0.024279</td>\n",
       "      <td>0.000299</td>\n",
       "    </tr>\n",
       "    <tr>\n",
       "      <th>6</th>\n",
       "      <td>1</td>\n",
       "      <td>500</td>\n",
       "      <td>0.798</td>\n",
       "      <td>0.023352</td>\n",
       "      <td>0.070062</td>\n",
       "      <td>0.002193</td>\n",
       "      <td>0.024224</td>\n",
       "      <td>0.000415</td>\n",
       "    </tr>\n",
       "    <tr>\n",
       "      <th>2</th>\n",
       "      <td>5</td>\n",
       "      <td>0.05</td>\n",
       "      <td>0.774</td>\n",
       "      <td>0.018890</td>\n",
       "      <td>0.068661</td>\n",
       "      <td>0.001625</td>\n",
       "      <td>0.024405</td>\n",
       "      <td>0.000331</td>\n",
       "    </tr>\n",
       "    <tr>\n",
       "      <th>1</th>\n",
       "      <td>6</td>\n",
       "      <td>0.005</td>\n",
       "      <td>0.694</td>\n",
       "      <td>0.033006</td>\n",
       "      <td>0.094470</td>\n",
       "      <td>0.004000</td>\n",
       "      <td>0.030274</td>\n",
       "      <td>0.001825</td>\n",
       "    </tr>\n",
       "    <tr>\n",
       "      <th>0</th>\n",
       "      <td>7</td>\n",
       "      <td>0.0005</td>\n",
       "      <td>0.308</td>\n",
       "      <td>0.026046</td>\n",
       "      <td>0.174073</td>\n",
       "      <td>0.006029</td>\n",
       "      <td>0.032489</td>\n",
       "      <td>0.000355</td>\n",
       "    </tr>\n",
       "  </tbody>\n",
       "</table>\n",
       "</div>"
      ],
      "text/plain": [
       "   rank_test_score param_C  mean_test_score  std_test_score  mean_fit_time  \\\n",
       "3                1     0.5            0.798        0.023352       0.071417   \n",
       "4                1       5            0.798        0.023352       0.069405   \n",
       "5                1      50            0.798        0.023352       0.070700   \n",
       "6                1     500            0.798        0.023352       0.070062   \n",
       "2                5    0.05            0.774        0.018890       0.068661   \n",
       "1                6   0.005            0.694        0.033006       0.094470   \n",
       "0                7  0.0005            0.308        0.026046       0.174073   \n",
       "\n",
       "   std_fit_time  mean_score_time  std_score_time  \n",
       "3      0.002088         0.024174        0.000517  \n",
       "4      0.002648         0.024142        0.000326  \n",
       "5      0.001447         0.024279        0.000299  \n",
       "6      0.002193         0.024224        0.000415  \n",
       "2      0.001625         0.024405        0.000331  \n",
       "1      0.004000         0.030274        0.001825  \n",
       "0      0.006029         0.032489        0.000355  "
      ]
     },
     "execution_count": 8,
     "metadata": {},
     "output_type": "execute_result"
    }
   ],
   "source": [
    "#import SVC\n",
    "from sklearn.svm import SVC\n",
    "#import for Cross-Validation\n",
    "from sklearn.model_selection import GridSearchCV\n",
    "\n",
    "# parameters for linear SVM\n",
    "parameters = {'C': [0.0005, 0.005, 0.05, 0.5, 5, 50, 500]}\n",
    "\n",
    "lin_classif = GridSearchCV(estimator =  SVC(kernel = 'linear'), cv = 4, param_grid= parameters )\n",
    "lin_classif.fit(X_train, y_train)\n",
    "\n",
    "print ('RESULTS FOR LINEAR KERNEL')\n",
    "\n",
    "print(\"Best parameters set found:\", lin_classif.best_params_ )\n",
    "\n",
    "print(\"Score with best parameters:\", lin_classif.best_score_ )\n",
    "\n",
    "print(\"All scores on the grid:\")\n",
    "scores = pd.DataFrame(lin_classif.cv_results_)[['rank_test_score','param_C','mean_test_score','std_test_score', 'mean_fit_time','std_fit_time','mean_score_time','std_score_time']]\n",
    "scores.sort_values('rank_test_score')"
   ]
  },
  {
   "cell_type": "markdown",
   "metadata": {},
   "source": [
    "## TO DO 2\n",
    "Pick a model for the Polynomial kernel with degree=2:"
   ]
  },
  {
   "cell_type": "code",
   "execution_count": 9,
   "metadata": {},
   "outputs": [
    {
     "name": "stdout",
     "output_type": "stream",
     "text": [
      "RESULTS FOR POLY DEGREE = 2 KERNEL\n",
      "Best parameters set found: {'C': 0.05, 'gamma': 0.5}\n",
      "Score with best parameters: 0.766\n",
      "\n",
      "All scores on the grid:\n"
     ]
    },
    {
     "name": "stderr",
     "output_type": "stream",
     "text": [
      "/home/andrea/anaconda3/lib/python3.7/site-packages/sklearn/model_selection/_search.py:813: DeprecationWarning: The default of the `iid` parameter will change from True to False in version 0.22 and will be removed in 0.24. This will change numeric results when test-set sizes are unequal.\n",
      "  DeprecationWarning)\n"
     ]
    },
    {
     "data": {
      "text/html": [
       "<div>\n",
       "<style scoped>\n",
       "    .dataframe tbody tr th:only-of-type {\n",
       "        vertical-align: middle;\n",
       "    }\n",
       "\n",
       "    .dataframe tbody tr th {\n",
       "        vertical-align: top;\n",
       "    }\n",
       "\n",
       "    .dataframe thead th {\n",
       "        text-align: right;\n",
       "    }\n",
       "</style>\n",
       "<table border=\"1\" class=\"dataframe\">\n",
       "  <thead>\n",
       "    <tr style=\"text-align: right;\">\n",
       "      <th></th>\n",
       "      <th>rank_test_score</th>\n",
       "      <th>param_C</th>\n",
       "      <th>param_gamma</th>\n",
       "      <th>mean_test_score</th>\n",
       "      <th>std_test_score</th>\n",
       "      <th>mean_fit_time</th>\n",
       "      <th>std_fit_time</th>\n",
       "      <th>mean_score_time</th>\n",
       "      <th>std_score_time</th>\n",
       "    </tr>\n",
       "  </thead>\n",
       "  <tbody>\n",
       "    <tr>\n",
       "      <th>1</th>\n",
       "      <td>1</td>\n",
       "      <td>0.05</td>\n",
       "      <td>0.5</td>\n",
       "      <td>0.766</td>\n",
       "      <td>0.025865</td>\n",
       "      <td>0.062986</td>\n",
       "      <td>0.001680</td>\n",
       "      <td>0.021984</td>\n",
       "      <td>0.000742</td>\n",
       "    </tr>\n",
       "    <tr>\n",
       "      <th>2</th>\n",
       "      <td>1</td>\n",
       "      <td>0.05</td>\n",
       "      <td>5</td>\n",
       "      <td>0.766</td>\n",
       "      <td>0.025865</td>\n",
       "      <td>0.061807</td>\n",
       "      <td>0.001890</td>\n",
       "      <td>0.021368</td>\n",
       "      <td>0.000129</td>\n",
       "    </tr>\n",
       "    <tr>\n",
       "      <th>4</th>\n",
       "      <td>1</td>\n",
       "      <td>0.5</td>\n",
       "      <td>0.5</td>\n",
       "      <td>0.766</td>\n",
       "      <td>0.025865</td>\n",
       "      <td>0.064440</td>\n",
       "      <td>0.000947</td>\n",
       "      <td>0.023147</td>\n",
       "      <td>0.002586</td>\n",
       "    </tr>\n",
       "    <tr>\n",
       "      <th>5</th>\n",
       "      <td>1</td>\n",
       "      <td>0.5</td>\n",
       "      <td>5</td>\n",
       "      <td>0.766</td>\n",
       "      <td>0.025865</td>\n",
       "      <td>0.066672</td>\n",
       "      <td>0.004296</td>\n",
       "      <td>0.023500</td>\n",
       "      <td>0.002164</td>\n",
       "    </tr>\n",
       "    <tr>\n",
       "      <th>6</th>\n",
       "      <td>1</td>\n",
       "      <td>5</td>\n",
       "      <td>0.05</td>\n",
       "      <td>0.766</td>\n",
       "      <td>0.025865</td>\n",
       "      <td>0.069441</td>\n",
       "      <td>0.006442</td>\n",
       "      <td>0.025433</td>\n",
       "      <td>0.003309</td>\n",
       "    </tr>\n",
       "    <tr>\n",
       "      <th>7</th>\n",
       "      <td>1</td>\n",
       "      <td>5</td>\n",
       "      <td>0.5</td>\n",
       "      <td>0.766</td>\n",
       "      <td>0.025865</td>\n",
       "      <td>0.068414</td>\n",
       "      <td>0.002795</td>\n",
       "      <td>0.025114</td>\n",
       "      <td>0.001009</td>\n",
       "    </tr>\n",
       "    <tr>\n",
       "      <th>8</th>\n",
       "      <td>1</td>\n",
       "      <td>5</td>\n",
       "      <td>5</td>\n",
       "      <td>0.766</td>\n",
       "      <td>0.025865</td>\n",
       "      <td>0.063040</td>\n",
       "      <td>0.001915</td>\n",
       "      <td>0.021455</td>\n",
       "      <td>0.000272</td>\n",
       "    </tr>\n",
       "    <tr>\n",
       "      <th>3</th>\n",
       "      <td>8</td>\n",
       "      <td>0.5</td>\n",
       "      <td>0.05</td>\n",
       "      <td>0.762</td>\n",
       "      <td>0.020875</td>\n",
       "      <td>0.068466</td>\n",
       "      <td>0.007793</td>\n",
       "      <td>0.023330</td>\n",
       "      <td>0.002743</td>\n",
       "    </tr>\n",
       "    <tr>\n",
       "      <th>0</th>\n",
       "      <td>9</td>\n",
       "      <td>0.05</td>\n",
       "      <td>0.05</td>\n",
       "      <td>0.710</td>\n",
       "      <td>0.013784</td>\n",
       "      <td>0.078488</td>\n",
       "      <td>0.002695</td>\n",
       "      <td>0.025803</td>\n",
       "      <td>0.002912</td>\n",
       "    </tr>\n",
       "  </tbody>\n",
       "</table>\n",
       "</div>"
      ],
      "text/plain": [
       "   rank_test_score param_C param_gamma  mean_test_score  std_test_score  \\\n",
       "1                1    0.05         0.5            0.766        0.025865   \n",
       "2                1    0.05           5            0.766        0.025865   \n",
       "4                1     0.5         0.5            0.766        0.025865   \n",
       "5                1     0.5           5            0.766        0.025865   \n",
       "6                1       5        0.05            0.766        0.025865   \n",
       "7                1       5         0.5            0.766        0.025865   \n",
       "8                1       5           5            0.766        0.025865   \n",
       "3                8     0.5        0.05            0.762        0.020875   \n",
       "0                9    0.05        0.05            0.710        0.013784   \n",
       "\n",
       "   mean_fit_time  std_fit_time  mean_score_time  std_score_time  \n",
       "1       0.062986      0.001680         0.021984        0.000742  \n",
       "2       0.061807      0.001890         0.021368        0.000129  \n",
       "4       0.064440      0.000947         0.023147        0.002586  \n",
       "5       0.066672      0.004296         0.023500        0.002164  \n",
       "6       0.069441      0.006442         0.025433        0.003309  \n",
       "7       0.068414      0.002795         0.025114        0.001009  \n",
       "8       0.063040      0.001915         0.021455        0.000272  \n",
       "3       0.068466      0.007793         0.023330        0.002743  \n",
       "0       0.078488      0.002695         0.025803        0.002912  "
      ]
     },
     "execution_count": 9,
     "metadata": {},
     "output_type": "execute_result"
    }
   ],
   "source": [
    "# parameters for poly with degree 2 kernel\n",
    "parameters = {'C': [0.05, 0.5, 5],'gamma':[0.05,0.5,5.]}\n",
    "\n",
    "#run SVM with poly of degree 2 kernel\n",
    "\n",
    "poly2_classif = GridSearchCV(estimator =  SVC(kernel = 'poly', degree = 2), cv = 4, param_grid= parameters )\n",
    "poly2_classif.fit(X_train, y_train)\n",
    "\n",
    "print ('RESULTS FOR POLY DEGREE = 2 KERNEL')\n",
    "\n",
    "print(\"Best parameters set found:\", poly2_classif.best_params_ )\n",
    "\n",
    "print(\"Score with best parameters:\", poly2_classif.best_score_ )\n",
    "\n",
    "print(\"\\nAll scores on the grid:\")\n",
    "scores = pd.DataFrame(poly2_classif.cv_results_)[['rank_test_score','param_C','param_gamma','mean_test_score','std_test_score', 'mean_fit_time','std_fit_time','mean_score_time','std_score_time']]\n",
    "scores.sort_values('rank_test_score')"
   ]
  },
  {
   "cell_type": "markdown",
   "metadata": {},
   "source": [
    "## TO DO 3\n",
    "\n",
    "Now let's try a higher degree for the polynomial kernel."
   ]
  },
  {
   "cell_type": "code",
   "execution_count": 10,
   "metadata": {},
   "outputs": [
    {
     "name": "stdout",
     "output_type": "stream",
     "text": [
      "RESULTS FOR POLY DEGREE= 3  KERNEL\n",
      "Best parameters set found: {'C': 5, 'gamma': 0.05}\n",
      "Score with best parameters: 0.74\n",
      "\n",
      "All scores on the grid:\n"
     ]
    },
    {
     "data": {
      "text/html": [
       "<div>\n",
       "<style scoped>\n",
       "    .dataframe tbody tr th:only-of-type {\n",
       "        vertical-align: middle;\n",
       "    }\n",
       "\n",
       "    .dataframe tbody tr th {\n",
       "        vertical-align: top;\n",
       "    }\n",
       "\n",
       "    .dataframe thead th {\n",
       "        text-align: right;\n",
       "    }\n",
       "</style>\n",
       "<table border=\"1\" class=\"dataframe\">\n",
       "  <thead>\n",
       "    <tr style=\"text-align: right;\">\n",
       "      <th></th>\n",
       "      <th>rank_test_score</th>\n",
       "      <th>param_C</th>\n",
       "      <th>param_gamma</th>\n",
       "      <th>mean_test_score</th>\n",
       "      <th>std_test_score</th>\n",
       "      <th>mean_fit_time</th>\n",
       "      <th>std_fit_time</th>\n",
       "      <th>mean_score_time</th>\n",
       "      <th>std_score_time</th>\n",
       "    </tr>\n",
       "  </thead>\n",
       "  <tbody>\n",
       "    <tr>\n",
       "      <th>6</th>\n",
       "      <td>1</td>\n",
       "      <td>5</td>\n",
       "      <td>0.05</td>\n",
       "      <td>0.740</td>\n",
       "      <td>0.022540</td>\n",
       "      <td>0.064187</td>\n",
       "      <td>0.003294</td>\n",
       "      <td>0.021876</td>\n",
       "      <td>0.000920</td>\n",
       "    </tr>\n",
       "    <tr>\n",
       "      <th>1</th>\n",
       "      <td>2</td>\n",
       "      <td>0.05</td>\n",
       "      <td>0.5</td>\n",
       "      <td>0.738</td>\n",
       "      <td>0.020154</td>\n",
       "      <td>0.064397</td>\n",
       "      <td>0.000565</td>\n",
       "      <td>0.020727</td>\n",
       "      <td>0.000221</td>\n",
       "    </tr>\n",
       "    <tr>\n",
       "      <th>2</th>\n",
       "      <td>2</td>\n",
       "      <td>0.05</td>\n",
       "      <td>5</td>\n",
       "      <td>0.738</td>\n",
       "      <td>0.020154</td>\n",
       "      <td>0.064771</td>\n",
       "      <td>0.003307</td>\n",
       "      <td>0.023264</td>\n",
       "      <td>0.001551</td>\n",
       "    </tr>\n",
       "    <tr>\n",
       "      <th>4</th>\n",
       "      <td>2</td>\n",
       "      <td>0.5</td>\n",
       "      <td>0.5</td>\n",
       "      <td>0.738</td>\n",
       "      <td>0.020154</td>\n",
       "      <td>0.067863</td>\n",
       "      <td>0.008802</td>\n",
       "      <td>0.022977</td>\n",
       "      <td>0.003525</td>\n",
       "    </tr>\n",
       "    <tr>\n",
       "      <th>5</th>\n",
       "      <td>2</td>\n",
       "      <td>0.5</td>\n",
       "      <td>5</td>\n",
       "      <td>0.738</td>\n",
       "      <td>0.020154</td>\n",
       "      <td>0.063052</td>\n",
       "      <td>0.003534</td>\n",
       "      <td>0.022026</td>\n",
       "      <td>0.001865</td>\n",
       "    </tr>\n",
       "    <tr>\n",
       "      <th>7</th>\n",
       "      <td>2</td>\n",
       "      <td>5</td>\n",
       "      <td>0.5</td>\n",
       "      <td>0.738</td>\n",
       "      <td>0.020154</td>\n",
       "      <td>0.067102</td>\n",
       "      <td>0.007943</td>\n",
       "      <td>0.023402</td>\n",
       "      <td>0.002680</td>\n",
       "    </tr>\n",
       "    <tr>\n",
       "      <th>8</th>\n",
       "      <td>2</td>\n",
       "      <td>5</td>\n",
       "      <td>5</td>\n",
       "      <td>0.738</td>\n",
       "      <td>0.020154</td>\n",
       "      <td>0.072977</td>\n",
       "      <td>0.005083</td>\n",
       "      <td>0.026832</td>\n",
       "      <td>0.004120</td>\n",
       "    </tr>\n",
       "    <tr>\n",
       "      <th>3</th>\n",
       "      <td>8</td>\n",
       "      <td>0.5</td>\n",
       "      <td>0.05</td>\n",
       "      <td>0.736</td>\n",
       "      <td>0.012667</td>\n",
       "      <td>0.065041</td>\n",
       "      <td>0.001139</td>\n",
       "      <td>0.020777</td>\n",
       "      <td>0.000305</td>\n",
       "    </tr>\n",
       "    <tr>\n",
       "      <th>0</th>\n",
       "      <td>9</td>\n",
       "      <td>0.05</td>\n",
       "      <td>0.05</td>\n",
       "      <td>0.706</td>\n",
       "      <td>0.018448</td>\n",
       "      <td>0.070440</td>\n",
       "      <td>0.004117</td>\n",
       "      <td>0.026076</td>\n",
       "      <td>0.002563</td>\n",
       "    </tr>\n",
       "  </tbody>\n",
       "</table>\n",
       "</div>"
      ],
      "text/plain": [
       "   rank_test_score param_C param_gamma  mean_test_score  std_test_score  \\\n",
       "6                1       5        0.05            0.740        0.022540   \n",
       "1                2    0.05         0.5            0.738        0.020154   \n",
       "2                2    0.05           5            0.738        0.020154   \n",
       "4                2     0.5         0.5            0.738        0.020154   \n",
       "5                2     0.5           5            0.738        0.020154   \n",
       "7                2       5         0.5            0.738        0.020154   \n",
       "8                2       5           5            0.738        0.020154   \n",
       "3                8     0.5        0.05            0.736        0.012667   \n",
       "0                9    0.05        0.05            0.706        0.018448   \n",
       "\n",
       "   mean_fit_time  std_fit_time  mean_score_time  std_score_time  \n",
       "6       0.064187      0.003294         0.021876        0.000920  \n",
       "1       0.064397      0.000565         0.020727        0.000221  \n",
       "2       0.064771      0.003307         0.023264        0.001551  \n",
       "4       0.067863      0.008802         0.022977        0.003525  \n",
       "5       0.063052      0.003534         0.022026        0.001865  \n",
       "7       0.067102      0.007943         0.023402        0.002680  \n",
       "8       0.072977      0.005083         0.026832        0.004120  \n",
       "3       0.065041      0.001139         0.020777        0.000305  \n",
       "0       0.070440      0.004117         0.026076        0.002563  "
      ]
     },
     "execution_count": 10,
     "metadata": {},
     "output_type": "execute_result"
    }
   ],
   "source": [
    "# parameters for poly with higher degree kernel\n",
    "parameters = {'C': [0.05, 0.5, 5],'gamma':[0.05,0.5,5.]}\n",
    "\n",
    "#run SVM with poly of higher degree kernel\n",
    "degree = 3\n",
    "poly_classif = GridSearchCV(estimator =  SVC(kernel = 'poly', degree = degree), cv = 4, param_grid= parameters )\n",
    "poly_classif.fit(X_train, y_train)\n",
    "\n",
    "print ('RESULTS FOR POLY DEGREE=', degree, ' KERNEL')\n",
    "\n",
    "print(\"Best parameters set found:\", poly_classif.best_params_ )\n",
    "\n",
    "print(\"Score with best parameters:\", poly_classif.best_score_ )\n",
    "\n",
    "print(\"\\nAll scores on the grid:\")\n",
    "scores = pd.DataFrame(poly_classif.cv_results_)[['rank_test_score','param_C','param_gamma','mean_test_score','std_test_score', 'mean_fit_time','std_fit_time','mean_score_time','std_score_time']]\n",
    "scores.sort_values('rank_test_score')"
   ]
  },
  {
   "cell_type": "markdown",
   "metadata": {},
   "source": [
    "## TO DO 4\n",
    "Pick a model for the Radial Basis Function kernel:"
   ]
  },
  {
   "cell_type": "code",
   "execution_count": 11,
   "metadata": {},
   "outputs": [
    {
     "name": "stdout",
     "output_type": "stream",
     "text": [
      "RESULTS FOR rbf KERNEL\n",
      "Best parameters set found: {'C': 50, 'gamma': 0.005}\n",
      "Score with best parameters: 0.794\n",
      "\n",
      "All scores on the grid:\n"
     ]
    },
    {
     "data": {
      "text/html": [
       "<div>\n",
       "<style scoped>\n",
       "    .dataframe tbody tr th:only-of-type {\n",
       "        vertical-align: middle;\n",
       "    }\n",
       "\n",
       "    .dataframe tbody tr th {\n",
       "        vertical-align: top;\n",
       "    }\n",
       "\n",
       "    .dataframe thead th {\n",
       "        text-align: right;\n",
       "    }\n",
       "</style>\n",
       "<table border=\"1\" class=\"dataframe\">\n",
       "  <thead>\n",
       "    <tr style=\"text-align: right;\">\n",
       "      <th></th>\n",
       "      <th>rank_test_score</th>\n",
       "      <th>param_C</th>\n",
       "      <th>param_gamma</th>\n",
       "      <th>mean_test_score</th>\n",
       "      <th>std_test_score</th>\n",
       "      <th>mean_fit_time</th>\n",
       "      <th>std_fit_time</th>\n",
       "      <th>mean_score_time</th>\n",
       "      <th>std_score_time</th>\n",
       "    </tr>\n",
       "  </thead>\n",
       "  <tbody>\n",
       "    <tr>\n",
       "      <th>8</th>\n",
       "      <td>1</td>\n",
       "      <td>50</td>\n",
       "      <td>0.005</td>\n",
       "      <td>0.794</td>\n",
       "      <td>0.025069</td>\n",
       "      <td>0.087692</td>\n",
       "      <td>0.003608</td>\n",
       "      <td>0.028301</td>\n",
       "      <td>0.003183</td>\n",
       "    </tr>\n",
       "    <tr>\n",
       "      <th>12</th>\n",
       "      <td>1</td>\n",
       "      <td>500</td>\n",
       "      <td>0.005</td>\n",
       "      <td>0.794</td>\n",
       "      <td>0.025069</td>\n",
       "      <td>0.088364</td>\n",
       "      <td>0.002248</td>\n",
       "      <td>0.028233</td>\n",
       "      <td>0.001849</td>\n",
       "    </tr>\n",
       "    <tr>\n",
       "      <th>4</th>\n",
       "      <td>3</td>\n",
       "      <td>5</td>\n",
       "      <td>0.005</td>\n",
       "      <td>0.780</td>\n",
       "      <td>0.026172</td>\n",
       "      <td>0.094815</td>\n",
       "      <td>0.003433</td>\n",
       "      <td>0.035662</td>\n",
       "      <td>0.004722</td>\n",
       "    </tr>\n",
       "    <tr>\n",
       "      <th>5</th>\n",
       "      <td>4</td>\n",
       "      <td>5</td>\n",
       "      <td>0.05</td>\n",
       "      <td>0.746</td>\n",
       "      <td>0.033153</td>\n",
       "      <td>0.203881</td>\n",
       "      <td>0.008985</td>\n",
       "      <td>0.045568</td>\n",
       "      <td>0.009594</td>\n",
       "    </tr>\n",
       "    <tr>\n",
       "      <th>9</th>\n",
       "      <td>4</td>\n",
       "      <td>50</td>\n",
       "      <td>0.05</td>\n",
       "      <td>0.746</td>\n",
       "      <td>0.033153</td>\n",
       "      <td>0.183857</td>\n",
       "      <td>0.003799</td>\n",
       "      <td>0.032228</td>\n",
       "      <td>0.000575</td>\n",
       "    </tr>\n",
       "    <tr>\n",
       "      <th>13</th>\n",
       "      <td>4</td>\n",
       "      <td>500</td>\n",
       "      <td>0.05</td>\n",
       "      <td>0.746</td>\n",
       "      <td>0.033153</td>\n",
       "      <td>0.190205</td>\n",
       "      <td>0.001755</td>\n",
       "      <td>0.034543</td>\n",
       "      <td>0.001791</td>\n",
       "    </tr>\n",
       "    <tr>\n",
       "      <th>0</th>\n",
       "      <td>7</td>\n",
       "      <td>0.5</td>\n",
       "      <td>0.005</td>\n",
       "      <td>0.690</td>\n",
       "      <td>0.024689</td>\n",
       "      <td>0.113482</td>\n",
       "      <td>0.000727</td>\n",
       "      <td>0.031214</td>\n",
       "      <td>0.000700</td>\n",
       "    </tr>\n",
       "    <tr>\n",
       "      <th>1</th>\n",
       "      <td>8</td>\n",
       "      <td>0.5</td>\n",
       "      <td>0.05</td>\n",
       "      <td>0.674</td>\n",
       "      <td>0.020990</td>\n",
       "      <td>0.199117</td>\n",
       "      <td>0.015014</td>\n",
       "      <td>0.043259</td>\n",
       "      <td>0.005763</td>\n",
       "    </tr>\n",
       "    <tr>\n",
       "      <th>6</th>\n",
       "      <td>9</td>\n",
       "      <td>5</td>\n",
       "      <td>0.5</td>\n",
       "      <td>0.122</td>\n",
       "      <td>0.004252</td>\n",
       "      <td>0.196912</td>\n",
       "      <td>0.004290</td>\n",
       "      <td>0.035694</td>\n",
       "      <td>0.001226</td>\n",
       "    </tr>\n",
       "    <tr>\n",
       "      <th>10</th>\n",
       "      <td>9</td>\n",
       "      <td>50</td>\n",
       "      <td>0.5</td>\n",
       "      <td>0.122</td>\n",
       "      <td>0.004252</td>\n",
       "      <td>0.193412</td>\n",
       "      <td>0.003394</td>\n",
       "      <td>0.033597</td>\n",
       "      <td>0.000684</td>\n",
       "    </tr>\n",
       "    <tr>\n",
       "      <th>14</th>\n",
       "      <td>9</td>\n",
       "      <td>500</td>\n",
       "      <td>0.5</td>\n",
       "      <td>0.122</td>\n",
       "      <td>0.004252</td>\n",
       "      <td>0.197566</td>\n",
       "      <td>0.005436</td>\n",
       "      <td>0.033876</td>\n",
       "      <td>0.000791</td>\n",
       "    </tr>\n",
       "    <tr>\n",
       "      <th>2</th>\n",
       "      <td>12</td>\n",
       "      <td>0.5</td>\n",
       "      <td>0.5</td>\n",
       "      <td>0.116</td>\n",
       "      <td>0.001277</td>\n",
       "      <td>0.210532</td>\n",
       "      <td>0.009494</td>\n",
       "      <td>0.039102</td>\n",
       "      <td>0.005083</td>\n",
       "    </tr>\n",
       "    <tr>\n",
       "      <th>3</th>\n",
       "      <td>12</td>\n",
       "      <td>0.5</td>\n",
       "      <td>5</td>\n",
       "      <td>0.116</td>\n",
       "      <td>0.001277</td>\n",
       "      <td>0.204318</td>\n",
       "      <td>0.004695</td>\n",
       "      <td>0.040494</td>\n",
       "      <td>0.005262</td>\n",
       "    </tr>\n",
       "    <tr>\n",
       "      <th>7</th>\n",
       "      <td>12</td>\n",
       "      <td>5</td>\n",
       "      <td>5</td>\n",
       "      <td>0.116</td>\n",
       "      <td>0.001277</td>\n",
       "      <td>0.196991</td>\n",
       "      <td>0.006175</td>\n",
       "      <td>0.035771</td>\n",
       "      <td>0.001405</td>\n",
       "    </tr>\n",
       "    <tr>\n",
       "      <th>11</th>\n",
       "      <td>12</td>\n",
       "      <td>50</td>\n",
       "      <td>5</td>\n",
       "      <td>0.116</td>\n",
       "      <td>0.001277</td>\n",
       "      <td>0.190656</td>\n",
       "      <td>0.004715</td>\n",
       "      <td>0.037036</td>\n",
       "      <td>0.003115</td>\n",
       "    </tr>\n",
       "    <tr>\n",
       "      <th>15</th>\n",
       "      <td>12</td>\n",
       "      <td>500</td>\n",
       "      <td>5</td>\n",
       "      <td>0.116</td>\n",
       "      <td>0.001277</td>\n",
       "      <td>0.189789</td>\n",
       "      <td>0.004321</td>\n",
       "      <td>0.034691</td>\n",
       "      <td>0.000879</td>\n",
       "    </tr>\n",
       "  </tbody>\n",
       "</table>\n",
       "</div>"
      ],
      "text/plain": [
       "    rank_test_score param_C param_gamma  mean_test_score  std_test_score  \\\n",
       "8                 1      50       0.005            0.794        0.025069   \n",
       "12                1     500       0.005            0.794        0.025069   \n",
       "4                 3       5       0.005            0.780        0.026172   \n",
       "5                 4       5        0.05            0.746        0.033153   \n",
       "9                 4      50        0.05            0.746        0.033153   \n",
       "13                4     500        0.05            0.746        0.033153   \n",
       "0                 7     0.5       0.005            0.690        0.024689   \n",
       "1                 8     0.5        0.05            0.674        0.020990   \n",
       "6                 9       5         0.5            0.122        0.004252   \n",
       "10                9      50         0.5            0.122        0.004252   \n",
       "14                9     500         0.5            0.122        0.004252   \n",
       "2                12     0.5         0.5            0.116        0.001277   \n",
       "3                12     0.5           5            0.116        0.001277   \n",
       "7                12       5           5            0.116        0.001277   \n",
       "11               12      50           5            0.116        0.001277   \n",
       "15               12     500           5            0.116        0.001277   \n",
       "\n",
       "    mean_fit_time  std_fit_time  mean_score_time  std_score_time  \n",
       "8        0.087692      0.003608         0.028301        0.003183  \n",
       "12       0.088364      0.002248         0.028233        0.001849  \n",
       "4        0.094815      0.003433         0.035662        0.004722  \n",
       "5        0.203881      0.008985         0.045568        0.009594  \n",
       "9        0.183857      0.003799         0.032228        0.000575  \n",
       "13       0.190205      0.001755         0.034543        0.001791  \n",
       "0        0.113482      0.000727         0.031214        0.000700  \n",
       "1        0.199117      0.015014         0.043259        0.005763  \n",
       "6        0.196912      0.004290         0.035694        0.001226  \n",
       "10       0.193412      0.003394         0.033597        0.000684  \n",
       "14       0.197566      0.005436         0.033876        0.000791  \n",
       "2        0.210532      0.009494         0.039102        0.005083  \n",
       "3        0.204318      0.004695         0.040494        0.005262  \n",
       "7        0.196991      0.006175         0.035771        0.001405  \n",
       "11       0.190656      0.004715         0.037036        0.003115  \n",
       "15       0.189789      0.004321         0.034691        0.000879  "
      ]
     },
     "execution_count": 11,
     "metadata": {},
     "output_type": "execute_result"
    }
   ],
   "source": [
    "# parameters for rbf SVM\n",
    "parameters = {'C': [0.5, 5, 50, 500],'gamma':[0.005, 0.05, 0.5,5]}\n",
    "\n",
    "#run SVM with rbf kernel\n",
    "rbf_classif = GridSearchCV(estimator =  SVC(kernel = 'rbf'), cv = 4, param_grid= parameters )\n",
    "rbf_classif.fit(X_train, y_train) \n",
    "\n",
    "print ('RESULTS FOR rbf KERNEL')\n",
    "\n",
    "print(\"Best parameters set found:\", rbf_classif.best_params_ )\n",
    "\n",
    "print(\"Score with best parameters:\", rbf_classif.best_score_)\n",
    "\n",
    "print(\"\\nAll scores on the grid:\")\n",
    "scores = pd.DataFrame(rbf_classif.cv_results_)[['rank_test_score','param_C','param_gamma','mean_test_score','std_test_score', 'mean_fit_time','std_fit_time','mean_score_time','std_score_time']]\n",
    "scores.sort_values('rank_test_score')"
   ]
  },
  {
   "cell_type": "markdown",
   "metadata": {},
   "source": [
    "## TO DO5\n",
    "What do you observe when using RBF and polynomial kernels on this dataset ?"
   ]
  },
  {
   "cell_type": "markdown",
   "metadata": {},
   "source": [
    "We observe that the best accuracy is given by the linear kernel on this dataset (intuitively it should be the opposite, but there is still dependence on the choice of the seed), and RBF performance is slightly worse and requires more computational efforts and time. "
   ]
  },
  {
   "cell_type": "markdown",
   "metadata": {},
   "source": [
    "## TO DO 6\n",
    "Report here the best SVM kernel and parameters"
   ]
  },
  {
   "cell_type": "code",
   "execution_count": 12,
   "metadata": {},
   "outputs": [
    {
     "name": "stdout",
     "output_type": "stream",
     "text": [
      "Best SVM training error: 0.000000\n",
      "Best SVM test error: 0.206689\n"
     ]
    }
   ],
   "source": [
    "#get training and test error for the best SVM model from CV\n",
    "best_SVM = rbf_classif\n",
    "best_SVM.fit(X_train, y_train)\n",
    "\n",
    "training_error = 1. - best_SVM.score(X_train,y_train)\n",
    "test_error = 1. - best_SVM.score(X_test,y_test)\n",
    "\n",
    "print (\"Best SVM training error: %f\" % training_error)\n",
    "print (\"Best SVM test error: %f\" % test_error)"
   ]
  },
  {
   "cell_type": "markdown",
   "metadata": {},
   "source": [
    "## More data\n",
    "Now let's do the same but using more data points for training.\n",
    "\n",
    "\n",
    "Choose a new number of data points."
   ]
  },
  {
   "cell_type": "code",
   "execution_count": 13,
   "metadata": {},
   "outputs": [
    {
     "name": "stdout",
     "output_type": "stream",
     "text": [
      "Labels in training dataset:  [0 1 2 3 4 5 6 7 8 9]\n",
      "Frequencies in training dataset:  [208 191 215 180 205 219 175 197 205 205]\n"
     ]
    }
   ],
   "source": [
    "X = X[permutation]\n",
    "y = y[permutation]\n",
    "\n",
    "m_training = 2000 # TODO number of data points, adjust depending on the capabilities of your PC\n",
    "\n",
    "X_train, X_test = X[:m_training], X[m_training:]\n",
    "y_train, y_test = y[:m_training], y[m_training:]\n",
    "\n",
    "labels, freqs = np.unique(y_train, return_counts=True)\n",
    "print(\"Labels in training dataset: \", labels)\n",
    "print(\"Frequencies in training dataset: \", freqs)"
   ]
  },
  {
   "cell_type": "markdown",
   "metadata": {},
   "source": [
    "Let's try to use SVM with parameters obtained from the best model for $m_{training} =  2000$. Since it may take a long time to run, you can decide to just let it run for some time and stop it if it does not complete. If you decide to do this, report it in the TO DO 9 cell below.\n",
    "\n",
    "### TO DO 7"
   ]
  },
  {
   "cell_type": "code",
   "execution_count": 14,
   "metadata": {
    "scrolled": true
   },
   "outputs": [
    {
     "name": "stdout",
     "output_type": "stream",
     "text": [
      "Best SVM training error: 0.000000\n",
      "Best SVM test error: 0.162776\n"
     ]
    }
   ],
   "source": [
    "#get training and test error for the best SVM model from CV\n",
    "best_SVM.fit(X_train, y_train)\n",
    "\n",
    "training_error = 1. - best_SVM.score(X_train,y_train)\n",
    "test_error = 1. - best_SVM.score(X_test,y_test)\n",
    "\n",
    "print (\"Best SVM training error: %f\" % training_error)\n",
    "print (\"Best SVM test error: %f\" % test_error)"
   ]
  },
  {
   "cell_type": "markdown",
   "metadata": {},
   "source": [
    "Just for comparison, let's also use logistic regression (with standard parameters from scikit-learn, i.e. some regularization is included).\n",
    "\n",
    "### TO DO 8 Try first without regularization (use a very large large C)"
   ]
  },
  {
   "cell_type": "code",
   "execution_count": 15,
   "metadata": {},
   "outputs": [
    {
     "name": "stdout",
     "output_type": "stream",
     "text": [
      "Best logistic regression training error: 0.000000\n",
      "Best logistic regression test error: 0.219000\n"
     ]
    }
   ],
   "source": [
    "from sklearn import linear_model\n",
    "\n",
    "log_reg_NoReg = linear_model.LogisticRegression(solver = 'newton-cg', C=1e5 , multi_class='auto', max_iter=1e3)\n",
    "log_reg_NoReg.fit(X_train, y_train)\n",
    "\n",
    "training_error = 1. - log_reg_NoReg.score(X_train,y_train)\n",
    "test_error = 1. - log_reg_NoReg.score(X_test,y_test)\n",
    "\n",
    "print (\"Best logistic regression training error: %f\" % training_error)\n",
    "print (\"Best logistic regression test error: %f\" % test_error)"
   ]
  },
  {
   "cell_type": "markdown",
   "metadata": {},
   "source": [
    "### TO DO 9 Then use also some regularization "
   ]
  },
  {
   "cell_type": "code",
   "execution_count": 16,
   "metadata": {},
   "outputs": [
    {
     "name": "stdout",
     "output_type": "stream",
     "text": [
      "Best regularized logistic regression training error: 0.016500\n",
      "Best regularized logistic regression test error: 0.188845\n"
     ]
    }
   ],
   "source": [
    "log_reg = linear_model.LogisticRegression(solver = 'newton-cg', C = 1 , multi_class='auto', max_iter=1e3)\n",
    "log_reg.fit(X_train, y_train)\n",
    "\n",
    "training_error = 1. - log_reg.score(X_train,y_train)\n",
    "test_error = 1. - log_reg.score(X_test,y_test)\n",
    "\n",
    "print (\"Best regularized logistic regression training error: %f\" % training_error)\n",
    "print (\"Best regularized logistic regression test error: %f\" % test_error)"
   ]
  },
  {
   "cell_type": "markdown",
   "metadata": {},
   "source": [
    "## TO DO 10\n",
    "Compare and discuss:\n",
    "- the results from SVM with m=500 and with m=2000 training data points. If you stopped the SVM, include such aspect in your comparison.\n",
    "\n"
   ]
  },
  {
   "cell_type": "markdown",
   "metadata": {},
   "source": [
    "As we expect the time requested for training my algorithm on a larger dataset is bigger: it leads to 0 error in both cases for the training dataset, but using a larger dataset increases our performance since the test error is 5% smaller than in the first case. "
   ]
  },
  {
   "cell_type": "markdown",
   "metadata": {},
   "source": [
    "- the results of SVM and of Logistic Regression with and without regularization\n"
   ]
  },
  {
   "cell_type": "markdown",
   "metadata": {},
   "source": [
    "Using the SVM (linear kernel) trained on our larger dataset leads us to a training error of 0, that can be still possible, and has the best performance of test dataset compaired to the logistic regression algorithm, both with and without regularization. By the way, as we can expect, using regularization we introduce a small error on training set (before it was 0, when not using regularization) but, at the end, it classifies better our test set. "
   ]
  },
  {
   "cell_type": "markdown",
   "metadata": {},
   "source": [
    "## TO DO 10\n",
    "Plot an item of clothing that is missclassified by logistic regression and correctly classified by SVM."
   ]
  },
  {
   "cell_type": "code",
   "execution_count": 17,
   "metadata": {},
   "outputs": [],
   "source": [
    "LR_prediction = log_reg.predict(X_test)\n",
    "SVM_prediction = best_SVM.predict(X_test)"
   ]
  },
  {
   "cell_type": "code",
   "execution_count": 23,
   "metadata": {},
   "outputs": [
    {
     "name": "stdout",
     "output_type": "stream",
     "text": [
      "INPUT:\n"
     ]
    },
    {
     "data": {
      "image/png": "[encoded data removed]",
      "text/plain": [
       "<Figure size 432x288 with 1 Axes>"
      ]
     },
     "metadata": {
      "needs_background": "light"
     },
     "output_type": "display_data"
    },
    {
     "name": "stdout",
     "output_type": "stream",
     "text": [
      "LABEL: 0\n",
      "35743  index was correctly classified by SVM and misclassified by logistic regression algorithm.\n"
     ]
    }
   ],
   "source": [
    "miscl_samples = [i for i in range(len(LR_prediction)) if (LR_prediction[i] != SVM_prediction[i]) and (SVM_prediction[i] == y_test[i]) ]\n",
    "\n",
    "rand = np.random.choice(miscl_samples)\n",
    "plot_input(X_test,y_test,rand)\n",
    "\n",
    "print(rand, \" index was correctly classified by SVM and misclassified by logistic regression algorithm.\")"
   ]
  },
  {
   "cell_type": "markdown",
   "metadata": {},
   "source": [
    "## TO DO 11\n",
    "Plot the confusion matrix for the SVM classifier and for logistic regression.\n",
    "The confusion matrix has one column for each predicted label and one row for each true label. \n",
    "It shows for each class in the corresponding row how many samples belonging to that class gets each possible output label.\n",
    "Notice that the diagonal contains the correctly classified samples, while the other cells correspond to errors.\n",
    "You can obtain it with the sklearn.metrics.confusion_matrix function (see the documentation).\n",
    "Try also to normalize the confusion matrix by the number of samples in each class in order to measure the accuracy on each single class.\n"
   ]
  },
  {
   "cell_type": "code",
   "execution_count": 26,
   "metadata": {},
   "outputs": [
    {
     "name": "stdout",
     "output_type": "stream",
     "text": [
      "Labels and frequencies in test set:  [5792 5809 5785 5820 5795 5781 5825 5803 5795 5795]\n",
      "\n",
      " Confusion matrix SVM  \n",
      " \n",
      " [[4762   33  110  277   14    7 1056    0   30    3]\n",
      " [   6 5557    3   71    8    0    7    0    5    0]\n",
      " [ 128   67 4547  107  922    1  873    0   60    2]\n",
      " [ 295  127   55 4938  166    2  157    0   24    1]\n",
      " [  27    7  615  245 4190    0  539    0   31    1]\n",
      " [   8    0    5    0    2 5262    6  245   39  107]\n",
      " [ 483   16  416  158  477    0 3080    0   44    1]\n",
      " [   0    0    0    0    0  293    0 5187   23  171]\n",
      " [  82    2   34   24   15   31  107    9 5530    3]\n",
      " [   1    0    0    0    1  185    0  362    9 5506]]\n",
      "\n",
      " Confusion matrix LR  \n",
      " \n",
      " [[4649   26  106  278   38   16  979    0   70   10]\n",
      " [  19 5525   11   75   11    1   12    0    3    2]\n",
      " [ 152   73 4139  105  888    8  809    0  102    3]\n",
      " [ 334  140   54 4870  163    5  174    0   46    3]\n",
      " [  41   18  810  230 4036    0  748    0   53    1]\n",
      " [  19    0   27    2   11 4984   30  316   64  119]\n",
      " [ 482   25  590  233  630    5 2911    0   61    0]\n",
      " [   1    1    0    3    0  429    1 5126   31  192]\n",
      " [  95    1   48   23   18   89  160   15 5347    5]\n",
      " [   0    0    0    1    0  244    1  346   18 5460]]\n"
     ]
    }
   ],
   "source": [
    "# for better aligned printing of confusion matrix use floatmode='fixed' (not supported in all versions of Python)\n",
    "np.set_printoptions(precision=2, suppress=True, floatmode = 'fixed') \n",
    "\n",
    "u, counts = np.unique(y_test, return_counts=True)\n",
    "print(\"Labels and frequencies in test set: \", counts)\n",
    "\n",
    "confusion_SVM = skm.confusion_matrix( SVM_prediction,y_test)\n",
    "print(\"\\n Confusion matrix SVM  \\n \\n\", confusion_SVM)\n",
    "\n",
    "confusion_LR = skm.confusion_matrix( LR_prediction,y_test)\n",
    "print(\"\\n Confusion matrix LR  \\n \\n\", confusion_LR)"
   ]
  },
  {
   "cell_type": "code",
   "execution_count": 27,
   "metadata": {},
   "outputs": [
    {
     "name": "stdout",
     "output_type": "stream",
     "text": [
      "\n",
      " Confusion matrix SVM (normalized)   \n",
      " \n",
      " [[0.82 0.01 0.02 0.05 0.00 0.00 0.18 0.00 0.01 0.00]\n",
      " [0.00 0.96 0.00 0.01 0.00 0.00 0.00 0.00 0.00 0.00]\n",
      " [0.02 0.01 0.79 0.02 0.16 0.00 0.15 0.00 0.01 0.00]\n",
      " [0.05 0.02 0.01 0.85 0.03 0.00 0.03 0.00 0.00 0.00]\n",
      " [0.00 0.00 0.11 0.04 0.72 0.00 0.09 0.00 0.01 0.00]\n",
      " [0.00 0.00 0.00 0.00 0.00 0.91 0.00 0.04 0.01 0.02]\n",
      " [0.08 0.00 0.07 0.03 0.08 0.00 0.53 0.00 0.01 0.00]\n",
      " [0.00 0.00 0.00 0.00 0.00 0.05 0.00 0.89 0.00 0.03]\n",
      " [0.01 0.00 0.01 0.00 0.00 0.01 0.02 0.00 0.95 0.00]\n",
      " [0.00 0.00 0.00 0.00 0.00 0.03 0.00 0.06 0.00 0.95]]\n",
      "\n",
      " Confusion matrix LR (normalized)   \n",
      " \n",
      " [[0.80 0.00 0.02 0.05 0.01 0.00 0.17 0.00 0.01 0.00]\n",
      " [0.00 0.95 0.00 0.01 0.00 0.00 0.00 0.00 0.00 0.00]\n",
      " [0.03 0.01 0.72 0.02 0.15 0.00 0.14 0.00 0.02 0.00]\n",
      " [0.06 0.02 0.01 0.84 0.03 0.00 0.03 0.00 0.01 0.00]\n",
      " [0.01 0.00 0.14 0.04 0.70 0.00 0.13 0.00 0.01 0.00]\n",
      " [0.00 0.00 0.00 0.00 0.00 0.86 0.01 0.05 0.01 0.02]\n",
      " [0.08 0.00 0.10 0.04 0.11 0.00 0.50 0.00 0.01 0.00]\n",
      " [0.00 0.00 0.00 0.00 0.00 0.07 0.00 0.88 0.01 0.03]\n",
      " [0.02 0.00 0.01 0.00 0.00 0.02 0.03 0.00 0.92 0.00]\n",
      " [0.00 0.00 0.00 0.00 0.00 0.04 0.00 0.06 0.00 0.94]]\n"
     ]
    }
   ],
   "source": [
    "### ADD CODE TO NORMALIZE CONFUSION MATRIX AND PRINT THE NORMALIZED MATRIX\n",
    "\n",
    "print(\"\\n Confusion matrix SVM (normalized)   \\n \\n\", confusion_SVM /counts[:,None] )\n",
    "\n",
    "print(\"\\n Confusion matrix LR (normalized)   \\n \\n\", confusion_LR /counts[:,None] )"
   ]
  },
  {
   "cell_type": "code",
   "execution_count": 21,
   "metadata": {},
   "outputs": [
    {
     "name": "stdout",
     "output_type": "stream",
     "text": [
      "\n",
      " Confusion matrix SVM (not normalized)\n"
     ]
    },
    {
     "data": {
      "image/png": "[encoded data removed]",
      "text/plain": [
       "<Figure size 504x360 with 2 Axes>"
      ]
     },
     "metadata": {
      "needs_background": "light"
     },
     "output_type": "display_data"
    },
    {
     "name": "stdout",
     "output_type": "stream",
     "text": [
      "\n",
      " Confusion matrix LR (not normalized)\n"
     ]
    },
    {
     "data": {
      "image/png": "[encoded data removed]",
      "text/plain": [
       "<Figure size 504x360 with 2 Axes>"
      ]
     },
     "metadata": {
      "needs_background": "light"
     },
     "output_type": "display_data"
    }
   ],
   "source": [
    "import seaborn as sns\n",
    "\n",
    "print(\"\\n Confusion matrix SVM (not normalized)\")\n",
    "plt.figure(figsize = (7,5))\n",
    "sns.heatmap(confusion_SVM, annot=True, fmt=\"d\", cmap=\"Reds\" )\n",
    "plt.show()\n",
    "\n",
    "print(\"\\n Confusion matrix LR (not normalized)\")\n",
    "plt.figure(figsize = (7,5))\n",
    "sns.heatmap(confusion_LR, annot=True, fmt=\"d\", cmap=\"Greens\" )\n",
    "plt.show()"
   ]
  },
  {
   "cell_type": "code",
   "execution_count": 22,
   "metadata": {},
   "outputs": [
    {
     "name": "stdout",
     "output_type": "stream",
     "text": [
      "\n",
      " Confusion matrix SVM (normalized)\n"
     ]
    },
    {
     "data": {
      "image/png": "[encoded data removed]",
      "text/plain": [
       "<Figure size 648x432 with 2 Axes>"
      ]
     },
     "metadata": {
      "needs_background": "light"
     },
     "output_type": "display_data"
    },
    {
     "name": "stdout",
     "output_type": "stream",
     "text": [
      "\n",
      " Confusion matrix LR (normalized)\n"
     ]
    },
    {
     "data": {
      "image/png": "[encoded data removed]",
      "text/plain": [
       "<Figure size 648x432 with 2 Axes>"
      ]
     },
     "metadata": {
      "needs_background": "light"
     },
     "output_type": "display_data"
    }
   ],
   "source": [
    "print(\"\\n Confusion matrix SVM (normalized)\")\n",
    "plt.figure(figsize = (9,6))\n",
    "sns.heatmap(confusion_SVM/counts[:,None], annot=True, fmt = \"1.2f\" , cmap=\"Reds\" )\n",
    "plt.show()\n",
    "\n",
    "print(\"\\n Confusion matrix LR (normalized)\")\n",
    "plt.figure(figsize = (9,6))\n",
    "sns.heatmap(confusion_LR /counts[:,None], annot=True, fmt =  \"1.2f\" , cmap=\"Greens\" )\n",
    "plt.show()"
   ]
  },
  {
   "cell_type": "markdown",
   "metadata": {},
   "source": [
    "## TO DO 12\n",
    "Have a look at the confusion matrices and comment on the obtained accuracies. Why some classes have lower accuracies and others an higher one ? Make some guesses on the possible causes.\n",
    "\n"
   ]
  },
  {
   "cell_type": "markdown",
   "metadata": {},
   "source": [
    "We see that for example that the 6th entry (related to label '6' - shirt) of my confusion matrices, both for LR and SVM, are the most misclassified, so it means that both my algorithms have a 50% of possibility to misclassify an image in input whose label is 6. There could be also some errors with '0', '2' and '4' labels.\n",
    "\n",
    "Since the algorithm relies on pixels and images in input are low quality, it is more difficult for him to tell a shirt ('6' label) from a t-shirt (label '0') since they are visually similar to each other and vice versa: indeed they are the biggest misclassified entries of my confusion matrix. Other couples can be pullover/shirt, sandal/sneakers and other clothes that are visually similar to each other."
   ]
  },
  {
   "cell_type": "code",
   "execution_count": null,
   "metadata": {},
   "outputs": [],
   "source": []
  }
 ],
 "metadata": {
  "kernelspec": {
   "display_name": "Python 3",
   "language": "python",
   "name": "python3"
  },
  "language_info": {
   "codemirror_mode": {
    "name": "ipython",
    "version": 3
   },
   "file_extension": ".py",
   "mimetype": "text/x-python",
   "name": "python",
   "nbconvert_exporter": "python",
   "pygments_lexer": "ipython3",
   "version": "3.7.3"
  }
 },
 "nbformat": 4,
 "nbformat_minor": 2
}
