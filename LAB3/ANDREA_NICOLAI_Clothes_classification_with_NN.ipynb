{
 "cells": [
  {
   "cell_type": "markdown",
   "metadata": {},
   "source": [
    "# Clothes Classification with Neural Networks\n",
    "\n",
    "In this notebook we are going to explore the Neural Networks for image classification. We are going to use the same dataset of the SVM notebook: Fashion MNIST (https://pravarmahajan.github.io/fashion/), a dataset of small images of clothes and accessories.\n",
    "\n",
    "The dataset labels are the following:\n",
    "\n",
    "| Label | Description |\n",
    "| --- | --- |\n",
    "| 0 | T-shirt/top |\n",
    "| 1 | Trouser |\n",
    "| 2 | Pullover |\n",
    "| 3 | Dress |\n",
    "| 4 | Coat |\n",
    "| 5 | Sandal |\n",
    "| 6 | Shirt |\n",
    "| 7 | Sneaker |\n",
    "| 8 | Bag |\n",
    "| 9 | Ankle boot |"
   ]
  },
  {
   "cell_type": "code",
   "execution_count": 24,
   "metadata": {},
   "outputs": [
    {
     "name": "stdout",
     "output_type": "stream",
     "text": [
      "scikit-learn version:  0.21.2\n"
     ]
    }
   ],
   "source": [
    "#load the required packages and check Scikit-learn version\n",
    "\n",
    "%matplotlib inline  \n",
    "\n",
    "import numpy as np\n",
    "import scipy as sp\n",
    "import matplotlib.pyplot as plt\n",
    "import pandas as pd\n",
    "import seaborn as sns\n",
    "\n",
    "import sklearn\n",
    "print ('scikit-learn version: ', sklearn.__version__)\n",
    "from sklearn.neural_network import MLPClassifier\n",
    "from sklearn.model_selection import GridSearchCV\n",
    "from sklearn.model_selection import learning_curve\n",
    "from sklearn.svm import SVC"
   ]
  },
  {
   "cell_type": "code",
   "execution_count": 2,
   "metadata": {},
   "outputs": [],
   "source": [
    "# helper function to load Fashion MNIST dataset from disk\n",
    "def load_mnist(path, kind='train'):\n",
    "    import os\n",
    "    import gzip\n",
    "    import numpy as np\n",
    "    labels_path = os.path.join(path, '%s-labels-idx1-ubyte.gz' % kind)\n",
    "    images_path = os.path.join(path, '%s-images-idx3-ubyte.gz' % kind)\n",
    "    with gzip.open(labels_path, 'rb') as lbpath:\n",
    "        labels = np.frombuffer(lbpath.read(), dtype=np.uint8,offset=8)\n",
    "    with gzip.open(images_path, 'rb') as imgpath:\n",
    "        images = np.frombuffer(imgpath.read(), dtype=np.uint8,offset=16).reshape(len(labels), 784)\n",
    "    return images, labels"
   ]
  },
  {
   "cell_type": "markdown",
   "metadata": {},
   "source": [
    "# TODO \n",
    "Place a seed for the random generator (you can use your \"numero di matricola\"). Try to change the seed to see the impact of the randomization."
   ]
  },
  {
   "cell_type": "code",
   "execution_count": 3,
   "metadata": {},
   "outputs": [],
   "source": [
    "ID = 1233407#PLACE YOUR ID\n",
    "np.random.seed(ID)"
   ]
  },
  {
   "cell_type": "code",
   "execution_count": 4,
   "metadata": {},
   "outputs": [
    {
     "name": "stdout",
     "output_type": "stream",
     "text": [
      "Number of samples in the MNIST dataset: 60000\n"
     ]
    }
   ],
   "source": [
    "#load the MNIST dataset and let's normalize the features so that each value is in [0,1]\n",
    "X, y = load_mnist(\"data\")\n",
    "print(\"Number of samples in the MNIST dataset:\", X.shape[0])\n",
    "# rescale the data\n",
    "X = X / 255.0"
   ]
  },
  {
   "cell_type": "markdown",
   "metadata": {},
   "source": [
    "Now split into training and test. We start with a small training set of 600 samples to reduce computation time. Make sure that each label is present at least 10 times\n",
    "in training frequencies."
   ]
  },
  {
   "cell_type": "code",
   "execution_count": 5,
   "metadata": {},
   "outputs": [
    {
     "name": "stdout",
     "output_type": "stream",
     "text": [
      "Labels in training dataset:  [0 1 2 3 4 5 6 7 8 9]\n",
      "Frequencies in training dataset:  [49 65 51 68 58 61 64 64 59 61]\n"
     ]
    }
   ],
   "source": [
    "#random permute the data and split into training and test taking the first 600\n",
    "#data samples as training and the rests as test\n",
    "permutation = np.random.permutation(X.shape[0])\n",
    "\n",
    "X = X[permutation]\n",
    "y = y[permutation]\n",
    "\n",
    "m_training = 600\n",
    "\n",
    "X_train, X_test = X[:m_training], X[m_training:]\n",
    "y_train, y_test = y[:m_training], y[m_training:]\n",
    "\n",
    "labels, freqs = np.unique(y_train, return_counts=True)\n",
    "print(\"Labels in training dataset: \", labels)\n",
    "print(\"Frequencies in training dataset: \", freqs)\n"
   ]
  },
  {
   "cell_type": "code",
   "execution_count": 6,
   "metadata": {},
   "outputs": [],
   "source": [
    "#function for plotting a image and printing the corresponding label\n",
    "def plot_input(X_matrix, labels, index):\n",
    "    print(\"INPUT:\")\n",
    "    plt.imshow(\n",
    "        X_matrix[index].reshape(28,28),\n",
    "        cmap          = plt.cm.gray_r,\n",
    "        interpolation = \"nearest\"\n",
    "    )\n",
    "    plt.show()\n",
    "    print(\"LABEL: %i\"%labels[index])\n",
    "    return"
   ]
  },
  {
   "cell_type": "code",
   "execution_count": 7,
   "metadata": {},
   "outputs": [
    {
     "name": "stdout",
     "output_type": "stream",
     "text": [
      "INPUT:\n"
     ]
    },
    {
     "data": {
      "image/png": "[encoded data removed]",
      "text/plain": [
       "<Figure size 432x288 with 1 Axes>"
      ]
     },
     "metadata": {
      "needs_background": "light"
     },
     "output_type": "display_data"
    },
    {
     "name": "stdout",
     "output_type": "stream",
     "text": [
      "LABEL: 7\n",
      "INPUT:\n"
     ]
    },
    {
     "data": {
      "image/png": "[encoded data removed]",
      "text/plain": [
       "<Figure size 432x288 with 1 Axes>"
      ]
     },
     "metadata": {
      "needs_background": "light"
     },
     "output_type": "display_data"
    },
    {
     "name": "stdout",
     "output_type": "stream",
     "text": [
      "LABEL: 0\n",
      "INPUT:\n"
     ]
    },
    {
     "data": {
      "image/png": "[encoded data removed]",
      "text/plain": [
       "<Figure size 432x288 with 1 Axes>"
      ]
     },
     "metadata": {
      "needs_background": "light"
     },
     "output_type": "display_data"
    },
    {
     "name": "stdout",
     "output_type": "stream",
     "text": [
      "LABEL: 0\n"
     ]
    }
   ],
   "source": [
    "#let's try the plotting function\n",
    "plot_input(X_train,y_train,10)\n",
    "plot_input(X_test,y_test,100)\n",
    "plot_input(X_test,y_test,10000)"
   ]
  },
  {
   "cell_type": "markdown",
   "metadata": {},
   "source": [
    "## TO DO 1\n",
    "\n",
    "Now use a feed-forward Neural Network for prediction. Use the multi-layer perceptron classifier, with the following parameters: max_iter=300, alpha=1e-4, solver='sgd', tol=1e-4, learning_rate_init=.1, random_state=ID (this last parameter ensures the run is the same even if you run it more than once). The alpha parameter is the regularization term.\n",
    "\n",
    "Then, using the default activation function, pick four or five architectures to consider, with different numbers of hidden layers and different sizes. It is not necessary to create huge neural networks, you can limit to 3 layers and, for each layer, its maximum size can be of 100. Evaluate the architectures you chose using GridSearchCV with cv=5.\n",
    "\n",
    "You can reduce the number of iterations if the running time is too long on your computer.\n"
   ]
  },
  {
   "cell_type": "code",
   "execution_count": 8,
   "metadata": {},
   "outputs": [
    {
     "name": "stderr",
     "output_type": "stream",
     "text": [
      "/home/andrea/anaconda3/lib/python3.7/site-packages/sklearn/model_selection/_search.py:813: DeprecationWarning: The default of the `iid` parameter will change from True to False in version 0.22 and will be removed in 0.24. This will change numeric results when test-set sizes are unequal.\n",
      "  DeprecationWarning)\n"
     ]
    },
    {
     "data": {
      "text/plain": [
       "GridSearchCV(cv=5, error_score='raise-deprecating',\n",
       "             estimator=MLPClassifier(activation='relu', alpha=0.0001,\n",
       "                                     batch_size='auto', beta_1=0.9,\n",
       "                                     beta_2=0.999, early_stopping=False,\n",
       "                                     epsilon=1e-08, hidden_layer_sizes=(100,),\n",
       "                                     learning_rate='constant',\n",
       "                                     learning_rate_init=0.1, max_iter=300,\n",
       "                                     momentum=0.9, n_iter_no_change=10,\n",
       "                                     nesterovs_momentum=True, power_t=0.5,\n",
       "                                     random_state=1233407, shuffle=True,\n",
       "                                     solver='sgd', tol=0.0001,\n",
       "                                     validation_fraction=0.1, verbose=False,\n",
       "                                     warm_start=False),\n",
       "             iid='warn', n_jobs=None,\n",
       "             param_grid={'hidden_layer_sizes': [(10,), (20,), (40,), (40, 20),\n",
       "                                                (40, 30, 20)]},\n",
       "             pre_dispatch='2*n_jobs', refit=True, return_train_score=False,\n",
       "             scoring=None, verbose=0)"
      ]
     },
     "execution_count": 8,
     "metadata": {},
     "output_type": "execute_result"
    }
   ],
   "source": [
    "# these are sample values but feel free to change them as you like, try to experiment with different sizes!!\n",
    "parameters = {'hidden_layer_sizes': [(10,), (20,), (40,), (40,20,), (40,30,20) ]}\n",
    "\n",
    "mlp = MLPClassifier(max_iter=300, alpha=1e-4, solver='sgd',\n",
    "                    tol=1e-4, random_state=ID,\n",
    "                    learning_rate_init=.1)\n",
    "\n",
    "nn_classif = GridSearchCV(estimator =  mlp, cv = 5, param_grid = parameters )\n",
    "nn_classif.fit(X_train, y_train)"
   ]
  },
  {
   "cell_type": "code",
   "execution_count": 9,
   "metadata": {},
   "outputs": [
    {
     "name": "stdout",
     "output_type": "stream",
     "text": [
      "RESULTS FOR NN\n",
      "\n",
      "Best parameters set found: {'hidden_layer_sizes': (40,)}\n",
      "Score with best parameters: 0.79\n",
      "\n",
      "All scores on the grid:\n"
     ]
    },
    {
     "data": {
      "text/html": [
       "<div>\n",
       "<style scoped>\n",
       "    .dataframe tbody tr th:only-of-type {\n",
       "        vertical-align: middle;\n",
       "    }\n",
       "\n",
       "    .dataframe tbody tr th {\n",
       "        vertical-align: top;\n",
       "    }\n",
       "\n",
       "    .dataframe thead th {\n",
       "        text-align: right;\n",
       "    }\n",
       "</style>\n",
       "<table border=\"1\" class=\"dataframe\">\n",
       "  <thead>\n",
       "    <tr style=\"text-align: right;\">\n",
       "      <th></th>\n",
       "      <th>rank_test_score</th>\n",
       "      <th>param_hidden_layer_sizes</th>\n",
       "      <th>mean_test_score</th>\n",
       "      <th>std_test_score</th>\n",
       "      <th>mean_fit_time</th>\n",
       "      <th>std_fit_time</th>\n",
       "      <th>mean_score_time</th>\n",
       "      <th>std_score_time</th>\n",
       "    </tr>\n",
       "  </thead>\n",
       "  <tbody>\n",
       "    <tr>\n",
       "      <th>2</th>\n",
       "      <td>1</td>\n",
       "      <td>(40,)</td>\n",
       "      <td>0.790</td>\n",
       "      <td>0.027605</td>\n",
       "      <td>0.904367</td>\n",
       "      <td>0.213923</td>\n",
       "      <td>0.000853</td>\n",
       "      <td>0.000115</td>\n",
       "    </tr>\n",
       "    <tr>\n",
       "      <th>1</th>\n",
       "      <td>2</td>\n",
       "      <td>(20,)</td>\n",
       "      <td>0.785</td>\n",
       "      <td>0.037425</td>\n",
       "      <td>0.837711</td>\n",
       "      <td>0.116331</td>\n",
       "      <td>0.000736</td>\n",
       "      <td>0.000128</td>\n",
       "    </tr>\n",
       "    <tr>\n",
       "      <th>0</th>\n",
       "      <td>3</td>\n",
       "      <td>(10,)</td>\n",
       "      <td>0.755</td>\n",
       "      <td>0.015164</td>\n",
       "      <td>0.794868</td>\n",
       "      <td>0.215859</td>\n",
       "      <td>0.000611</td>\n",
       "      <td>0.000035</td>\n",
       "    </tr>\n",
       "    <tr>\n",
       "      <th>3</th>\n",
       "      <td>4</td>\n",
       "      <td>(40, 20)</td>\n",
       "      <td>0.710</td>\n",
       "      <td>0.094894</td>\n",
       "      <td>0.647958</td>\n",
       "      <td>0.354298</td>\n",
       "      <td>0.001435</td>\n",
       "      <td>0.000122</td>\n",
       "    </tr>\n",
       "    <tr>\n",
       "      <th>4</th>\n",
       "      <td>5</td>\n",
       "      <td>(40, 30, 20)</td>\n",
       "      <td>0.640</td>\n",
       "      <td>0.096599</td>\n",
       "      <td>0.451717</td>\n",
       "      <td>0.119570</td>\n",
       "      <td>0.001160</td>\n",
       "      <td>0.000200</td>\n",
       "    </tr>\n",
       "  </tbody>\n",
       "</table>\n",
       "</div>"
      ],
      "text/plain": [
       "   rank_test_score param_hidden_layer_sizes  mean_test_score  std_test_score  \\\n",
       "2                1                    (40,)            0.790        0.027605   \n",
       "1                2                    (20,)            0.785        0.037425   \n",
       "0                3                    (10,)            0.755        0.015164   \n",
       "3                4                 (40, 20)            0.710        0.094894   \n",
       "4                5             (40, 30, 20)            0.640        0.096599   \n",
       "\n",
       "   mean_fit_time  std_fit_time  mean_score_time  std_score_time  \n",
       "2       0.904367      0.213923         0.000853        0.000115  \n",
       "1       0.837711      0.116331         0.000736        0.000128  \n",
       "0       0.794868      0.215859         0.000611        0.000035  \n",
       "3       0.647958      0.354298         0.001435        0.000122  \n",
       "4       0.451717      0.119570         0.001160        0.000200  "
      ]
     },
     "execution_count": 9,
     "metadata": {},
     "output_type": "execute_result"
    }
   ],
   "source": [
    "print ('RESULTS FOR NN\\n')\n",
    "\n",
    "print(\"Best parameters set found:\",  nn_classif.best_params_ )\n",
    "print(\"Score with best parameters:\", nn_classif.best_score_)\n",
    "best_hidd_lay_size = nn_classif.best_params_.get('hidden_layer_sizes')\n",
    "print(\"\\nAll scores on the grid:\")\n",
    "scores = pd.DataFrame(nn_classif.cv_results_)[['rank_test_score','param_hidden_layer_sizes','mean_test_score',\n",
    "                                               'std_test_score', 'mean_fit_time','std_fit_time',\n",
    "                                               'mean_score_time','std_score_time']]\n",
    "scores.sort_values('rank_test_score')"
   ]
  },
  {
   "cell_type": "markdown",
   "metadata": {},
   "source": [
    "### TO DO 2\n",
    "\n",
    "Now try also different batch sizes, while keeping the best NN architecture you have found above. Remember that the batch size was previously set to the default value, i.e., min(200, n_samples). \n",
    "Recall that a batch size of 1 corresponds to baseline SGD, while using all the 480 training samples (there are 600 samples but in cross validation with 5 folders we use 1/5 of them for validation at each round) corresponds to standard GD and using a different mini-batch size lies in the middle between the two extreme cases."
   ]
  },
  {
   "cell_type": "code",
   "execution_count": 10,
   "metadata": {},
   "outputs": [
    {
     "data": {
      "text/plain": [
       "GridSearchCV(cv=KFold(n_splits=5, random_state=None, shuffle=False),\n",
       "             error_score='raise-deprecating',\n",
       "             estimator=MLPClassifier(activation='relu', alpha=0.0001,\n",
       "                                     batch_size='auto', beta_1=0.9,\n",
       "                                     beta_2=0.999, early_stopping=False,\n",
       "                                     epsilon=1e-08, hidden_layer_sizes=(40,),\n",
       "                                     learning_rate='constant',\n",
       "                                     learning_rate_init=0.1, max_iter=300,\n",
       "                                     momentum=0.9, n_iter_no_change=10,\n",
       "                                     nesterovs_momentum=True, power_t=0.5,\n",
       "                                     random_state=1233407, shuffle=True,\n",
       "                                     solver='sgd', tol=0.0001,\n",
       "                                     validation_fraction=0.1, verbose=False,\n",
       "                                     warm_start=False),\n",
       "             iid='warn', n_jobs=None, param_grid={'batch_size': [1, 32, 480]},\n",
       "             pre_dispatch='2*n_jobs', refit=True, return_train_score=False,\n",
       "             scoring=None, verbose=0)"
      ]
     },
     "execution_count": 10,
     "metadata": {},
     "output_type": "execute_result"
    }
   ],
   "source": [
    "# these are sample values corresponding to baseline SGD, a reasonable mini-batch size and standard GD\n",
    "# again feel free to change them as you like, try to experiment with different batch sizes!!\n",
    "parameters = {'batch_size': [1, 32, 480]}\n",
    "\n",
    "# need to specify that you would like to use the standard k-fold split otherwise sklearn create splits of different sizes\n",
    "kf = sklearn.model_selection.KFold(n_splits=5)\n",
    "mlp_kf = MLPClassifier(max_iter=300, alpha=1e-4, solver='sgd', \n",
    "                         hidden_layer_sizes = best_hidd_lay_size,\n",
    "                         tol=1e-4, random_state=ID,\n",
    "                         learning_rate_init=.1)\n",
    "\n",
    "# recall to use cv=kf in GridSearchCV parameters to use the k-fold subdivision seen in the lectures\n",
    "kf_classif = GridSearchCV(estimator =  mlp_kf, cv = kf, param_grid = parameters )\n",
    "kf_classif.fit(X_train, y_train)"
   ]
  },
  {
   "cell_type": "code",
   "execution_count": 11,
   "metadata": {},
   "outputs": [
    {
     "name": "stdout",
     "output_type": "stream",
     "text": [
      "RESULTS FOR NN\n",
      "\n",
      "Best parameters set found: {'batch_size': 480}\n",
      "Score with best parameters: 0.7533333333333333\n",
      "\n",
      "All scores on the grid:\n"
     ]
    },
    {
     "data": {
      "text/html": [
       "<div>\n",
       "<style scoped>\n",
       "    .dataframe tbody tr th:only-of-type {\n",
       "        vertical-align: middle;\n",
       "    }\n",
       "\n",
       "    .dataframe tbody tr th {\n",
       "        vertical-align: top;\n",
       "    }\n",
       "\n",
       "    .dataframe thead th {\n",
       "        text-align: right;\n",
       "    }\n",
       "</style>\n",
       "<table border=\"1\" class=\"dataframe\">\n",
       "  <thead>\n",
       "    <tr style=\"text-align: right;\">\n",
       "      <th></th>\n",
       "      <th>rank_test_score</th>\n",
       "      <th>param_batch_size</th>\n",
       "      <th>mean_test_score</th>\n",
       "      <th>std_test_score</th>\n",
       "      <th>mean_fit_time</th>\n",
       "      <th>std_fit_time</th>\n",
       "      <th>mean_score_time</th>\n",
       "      <th>std_score_time</th>\n",
       "    </tr>\n",
       "  </thead>\n",
       "  <tbody>\n",
       "    <tr>\n",
       "      <th>2</th>\n",
       "      <td>1</td>\n",
       "      <td>480</td>\n",
       "      <td>0.753333</td>\n",
       "      <td>0.012472</td>\n",
       "      <td>0.622210</td>\n",
       "      <td>0.218639</td>\n",
       "      <td>0.000828</td>\n",
       "      <td>0.000027</td>\n",
       "    </tr>\n",
       "    <tr>\n",
       "      <th>1</th>\n",
       "      <td>2</td>\n",
       "      <td>32</td>\n",
       "      <td>0.741667</td>\n",
       "      <td>0.024721</td>\n",
       "      <td>0.851927</td>\n",
       "      <td>0.303640</td>\n",
       "      <td>0.000849</td>\n",
       "      <td>0.000092</td>\n",
       "    </tr>\n",
       "    <tr>\n",
       "      <th>0</th>\n",
       "      <td>3</td>\n",
       "      <td>1</td>\n",
       "      <td>0.101667</td>\n",
       "      <td>0.030000</td>\n",
       "      <td>16.785777</td>\n",
       "      <td>5.137413</td>\n",
       "      <td>0.000950</td>\n",
       "      <td>0.000143</td>\n",
       "    </tr>\n",
       "  </tbody>\n",
       "</table>\n",
       "</div>"
      ],
      "text/plain": [
       "   rank_test_score param_batch_size  mean_test_score  std_test_score  \\\n",
       "2                1              480         0.753333        0.012472   \n",
       "1                2               32         0.741667        0.024721   \n",
       "0                3                1         0.101667        0.030000   \n",
       "\n",
       "   mean_fit_time  std_fit_time  mean_score_time  std_score_time  \n",
       "2       0.622210      0.218639         0.000828        0.000027  \n",
       "1       0.851927      0.303640         0.000849        0.000092  \n",
       "0      16.785777      5.137413         0.000950        0.000143  "
      ]
     },
     "execution_count": 11,
     "metadata": {},
     "output_type": "execute_result"
    }
   ],
   "source": [
    "print ('RESULTS FOR NN\\n')\n",
    "\n",
    "print(\"Best parameters set found:\",  kf_classif.best_params_ )\n",
    "best_batch_size =  kf_classif.best_params_.get('batch_size')\n",
    "print(\"Score with best parameters:\", kf_classif.best_score_)\n",
    "print(\"\\nAll scores on the grid:\")\n",
    "scores = pd.DataFrame(kf_classif.cv_results_)[['rank_test_score','param_batch_size','mean_test_score',\n",
    "                                               'std_test_score', 'mean_fit_time','std_fit_time',\n",
    "                                               'mean_score_time','std_score_time']]\n",
    "scores.sort_values('rank_test_score')"
   ]
  },
  {
   "cell_type": "markdown",
   "metadata": {},
   "source": [
    "### QUESTION 1\n",
    "\n",
    "What do you observe for different architectures and batch sizes? How do the number of layers and their sizes affect the performances? What do you observe for different batch sizes, in particular what happens to the training convergence for different batch sizes (notice that the algorithm could not converge for some batch sizes)?"
   ]
  },
  {
   "cell_type": "markdown",
   "metadata": {},
   "source": [
    "## [ANSWER TO QUESTION 1]"
   ]
  },
  {
   "cell_type": "markdown",
   "metadata": {},
   "source": [
    "### TO DO 3\n",
    "\n",
    "Now try also to use different learning rates, while keeping the best NN architecture and batch size you have found above. Plot the learning curves (i.e., the variation of the loss over the steps, you can get it from the loss_curve_ object of sklearn) for the different values of the learning rate . "
   ]
  },
  {
   "cell_type": "code",
   "execution_count": 12,
   "metadata": {},
   "outputs": [
    {
     "data": {
      "image/png": "[encoded data removed]",
      "text/plain": [
       "<Figure size 864x288 with 3 Axes>"
      ]
     },
     "metadata": {
      "needs_background": "light"
     },
     "output_type": "display_data"
    },
    {
     "data": {
      "image/png": "[encoded data removed]",
      "text/plain": [
       "<Figure size 432x288 with 1 Axes>"
      ]
     },
     "metadata": {
      "needs_background": "light"
     },
     "output_type": "display_data"
    }
   ],
   "source": [
    "import matplotlib.pyplot as plt\n",
    "\n",
    "lr_list = [10**exp for exp in range(-3,0)]\n",
    "loss_curves = []\n",
    "\n",
    "fig = plt.figure(figsize=(12,4))\n",
    "\n",
    "for lr, index in zip(lr_list, range(3)):\n",
    "    mlp_lr = MLPClassifier(max_iter= 10000, alpha=1e-4, solver='sgd', \n",
    "                         hidden_layer_sizes = best_hidd_lay_size,\n",
    "                         batch_size = best_batch_size,\n",
    "                         tol=1e-4, random_state=ID,\n",
    "                         learning_rate_init = lr)\n",
    "    mlp_lr.fit(X_train, y_train)\n",
    "    ax = fig.add_subplot(1,3,index+1)\n",
    "    ax.set_title(\"Learning rate = \"+str(lr))\n",
    "    ax.set_xlabel(\"Steps\")\n",
    "    ax.set_ylabel(\"Loss\")\n",
    "    ax.plot(mlp_lr.loss_curve_)\n",
    "    loss_curves.append(mlp_lr.loss_curve_)\n",
    "    \n",
    "plt.tight_layout()\n",
    "plt.show()\n",
    "\n",
    "for lr, loss_c in zip(lr_list, loss_curves):\n",
    "    plt.plot(loss_c, label = \"Learning rate = \"+str(lr))\n",
    "    \n",
    "plt.title(\"Loss curve for different learning rates\")\n",
    "plt.xlabel(\"Steps\")\n",
    "plt.ylabel(\"Loss\")\n",
    "plt.legend()\n",
    "plt.show()"
   ]
  },
  {
   "cell_type": "code",
   "execution_count": 13,
   "metadata": {},
   "outputs": [
    {
     "name": "stdout",
     "output_type": "stream",
     "text": [
      "RESULTS FOR NN\n",
      "\n",
      "Best parameters set found: {'learning_rate_init': 0.01}\n",
      "Score with best parameters: 0.7783333333333333\n",
      "\n",
      "All scores on the grid:\n"
     ]
    },
    {
     "data": {
      "text/html": [
       "<div>\n",
       "<style scoped>\n",
       "    .dataframe tbody tr th:only-of-type {\n",
       "        vertical-align: middle;\n",
       "    }\n",
       "\n",
       "    .dataframe tbody tr th {\n",
       "        vertical-align: top;\n",
       "    }\n",
       "\n",
       "    .dataframe thead th {\n",
       "        text-align: right;\n",
       "    }\n",
       "</style>\n",
       "<table border=\"1\" class=\"dataframe\">\n",
       "  <thead>\n",
       "    <tr style=\"text-align: right;\">\n",
       "      <th></th>\n",
       "      <th>rank_test_score</th>\n",
       "      <th>param_learning_rate_init</th>\n",
       "      <th>mean_test_score</th>\n",
       "      <th>std_test_score</th>\n",
       "      <th>mean_fit_time</th>\n",
       "      <th>std_fit_time</th>\n",
       "      <th>mean_score_time</th>\n",
       "      <th>std_score_time</th>\n",
       "    </tr>\n",
       "  </thead>\n",
       "  <tbody>\n",
       "    <tr>\n",
       "      <th>1</th>\n",
       "      <td>1</td>\n",
       "      <td>0.01</td>\n",
       "      <td>0.778333</td>\n",
       "      <td>0.044597</td>\n",
       "      <td>3.981575</td>\n",
       "      <td>0.092481</td>\n",
       "      <td>0.000841</td>\n",
       "      <td>0.000021</td>\n",
       "    </tr>\n",
       "    <tr>\n",
       "      <th>2</th>\n",
       "      <td>2</td>\n",
       "      <td>0.001</td>\n",
       "      <td>0.771667</td>\n",
       "      <td>0.038224</td>\n",
       "      <td>12.726641</td>\n",
       "      <td>0.605959</td>\n",
       "      <td>0.000847</td>\n",
       "      <td>0.000021</td>\n",
       "    </tr>\n",
       "    <tr>\n",
       "      <th>0</th>\n",
       "      <td>3</td>\n",
       "      <td>0.1</td>\n",
       "      <td>0.753333</td>\n",
       "      <td>0.012472</td>\n",
       "      <td>0.678699</td>\n",
       "      <td>0.231206</td>\n",
       "      <td>0.000931</td>\n",
       "      <td>0.000090</td>\n",
       "    </tr>\n",
       "  </tbody>\n",
       "</table>\n",
       "</div>"
      ],
      "text/plain": [
       "   rank_test_score param_learning_rate_init  mean_test_score  std_test_score  \\\n",
       "1                1                     0.01         0.778333        0.044597   \n",
       "2                2                    0.001         0.771667        0.038224   \n",
       "0                3                      0.1         0.753333        0.012472   \n",
       "\n",
       "   mean_fit_time  std_fit_time  mean_score_time  std_score_time  \n",
       "1       3.981575      0.092481         0.000841        0.000021  \n",
       "2      12.726641      0.605959         0.000847        0.000021  \n",
       "0       0.678699      0.231206         0.000931        0.000090  "
      ]
     },
     "execution_count": 13,
     "metadata": {},
     "output_type": "execute_result"
    }
   ],
   "source": [
    "parameters = {'learning_rate_init': [0.1, 0.01, 0.001]}\n",
    "\n",
    "mlp_lr = MLPClassifier(max_iter= 10000, alpha=1e-4, solver='sgd', \n",
    "                       hidden_layer_sizes = best_hidd_lay_size,\n",
    "                       batch_size = best_batch_size,\n",
    "                       tol=1e-4, random_state=ID )\n",
    "lr_classif = GridSearchCV(estimator =  mlp_lr, cv = kf, param_grid = parameters )\n",
    "lr_classif.fit(X_train, y_train)\n",
    "\n",
    "print ('RESULTS FOR NN\\n')\n",
    "\n",
    "print(\"Best parameters set found:\",  lr_classif.best_params_ )\n",
    "best_lr =  lr_classif.best_params_.get('learning_rate_init')\n",
    "print(\"Score with best parameters:\", lr_classif.best_score_)\n",
    "print(\"\\nAll scores on the grid:\")\n",
    "scores = pd.DataFrame(lr_classif.cv_results_)[['rank_test_score','param_learning_rate_init','mean_test_score',\n",
    "                                               'std_test_score', 'mean_fit_time','std_fit_time',\n",
    "                                               'mean_score_time','std_score_time']]\n",
    "scores.sort_values('rank_test_score')"
   ]
  },
  {
   "cell_type": "markdown",
   "metadata": {},
   "source": [
    "### QUESTION 2\n",
    "\n",
    "Comment about the learning curves (i.e. the variation of the loss over the steps). How does the curve changes for different learning rates in terms of stability and speed of convergence ?"
   ]
  },
  {
   "cell_type": "markdown",
   "metadata": {},
   "source": [
    "## [ANSWER TO QUESTION 2]"
   ]
  },
  {
   "cell_type": "markdown",
   "metadata": {},
   "source": [
    "### TO DO 4\n",
    "\n",
    "Now get training and test error for a NN with best parameters (architecture, batch size and learning rate)from above. Plot the learning curve also for this case."
   ]
  },
  {
   "cell_type": "code",
   "execution_count": 14,
   "metadata": {
    "scrolled": true
   },
   "outputs": [
    {
     "name": "stdout",
     "output_type": "stream",
     "text": [
      "\n",
      "RESULTS FOR BEST NN\n",
      "\n",
      "Best NN training error: 0.000000\n",
      "Best NN test error: 0.212677\n"
     ]
    },
    {
     "data": {
      "image/png": "[encoded data removed]",
      "text/plain": [
       "<Figure size 432x288 with 1 Axes>"
      ]
     },
     "metadata": {
      "needs_background": "light"
     },
     "output_type": "display_data"
    }
   ],
   "source": [
    "#get training and test error for the best NN model from CV\n",
    "mlp_best = MLPClassifier(max_iter= 10000, alpha=1e-4, solver='sgd', \n",
    "                       hidden_layer_sizes = best_hidd_lay_size,\n",
    "                       batch_size = best_batch_size,\n",
    "                       tol=1e-4, random_state=ID,\n",
    "                       learning_rate_init = best_lr)\n",
    "mlp_best.fit(X_train,y_train)\n",
    "\n",
    "training_error = 1. - mlp_best.score(X_train,y_train)\n",
    "test_error = 1. - mlp_best.score(X_test,y_test)\n",
    "\n",
    "print ('\\nRESULTS FOR BEST NN\\n')\n",
    "print (\"Best NN training error: %f\" % training_error)\n",
    "print (\"Best NN test error: %f\" % test_error)\n",
    "\n",
    "plt.plot(mlp_best.loss_curve_, label = \"Best NN model\")\n",
    "plt.title(\"Loss curve for best NN model\")\n",
    "plt.xlabel(\"Steps\")\n",
    "plt.ylabel(\"Loss\")\n",
    "plt.legend()\n",
    "plt.show()"
   ]
  },
  {
   "cell_type": "markdown",
   "metadata": {},
   "source": [
    "## More data \n",
    "Now let's do the same but using 5000 (or less if it takes too long on your machine) data points for training. Use the same NN architecture as before, but you can try more if you like and have a powerful computer !!"
   ]
  },
  {
   "cell_type": "code",
   "execution_count": 15,
   "metadata": {},
   "outputs": [
    {
     "name": "stdout",
     "output_type": "stream",
     "text": [
      "Labels in training dataset:  [0 1 2 3 4 5 6 7 8 9]\n",
      "Frequencies in training dataset:  [497 525 520 493 484 501 496 502 500 482]\n"
     ]
    }
   ],
   "source": [
    "X = X[permutation]\n",
    "y = y[permutation]\n",
    "\n",
    "m_training = 5000\n",
    "\n",
    "X_train, X_test = X[:m_training], X[m_training:]\n",
    "y_train, y_test = y[:m_training], y[m_training:]\n",
    "\n",
    "labels, freqs = np.unique(y_train, return_counts=True)\n",
    "print(\"Labels in training dataset: \", labels)\n",
    "print(\"Frequencies in training dataset: \", freqs)"
   ]
  },
  {
   "cell_type": "markdown",
   "metadata": {},
   "source": [
    "## TO DO 5\n",
    "\n",
    "Now train the NNs with the added data points using the optimum parameters found above. Eventually, feel free to try different architectures if you like. We suggest that you use 'verbose=True' so have an idea of how long it takes to run 1 iteration (eventually reduce also the number of iterations to 50)."
   ]
  },
  {
   "cell_type": "code",
   "execution_count": 16,
   "metadata": {},
   "outputs": [
    {
     "name": "stdout",
     "output_type": "stream",
     "text": [
      "Iteration 1, loss = 2.28625584\n",
      "Iteration 2, loss = 1.89966959\n",
      "Iteration 3, loss = 1.51821037\n",
      "Iteration 4, loss = 1.17841333\n",
      "Iteration 5, loss = 0.98252818\n",
      "Iteration 6, loss = 0.87460357\n",
      "Iteration 7, loss = 0.80937218\n",
      "Iteration 8, loss = 0.76109795\n",
      "Iteration 9, loss = 0.72503077\n",
      "Iteration 10, loss = 0.69507722\n",
      "Iteration 11, loss = 0.67244562\n",
      "Iteration 12, loss = 0.64984533\n",
      "Iteration 13, loss = 0.63251443\n",
      "Iteration 14, loss = 0.61656378\n",
      "Iteration 15, loss = 0.60266931\n",
      "Iteration 16, loss = 0.59108794\n",
      "Iteration 17, loss = 0.57928442\n",
      "Iteration 18, loss = 0.56878105\n",
      "Iteration 19, loss = 0.55979889\n",
      "Iteration 20, loss = 0.55067294\n",
      "Iteration 21, loss = 0.54279636\n",
      "Iteration 22, loss = 0.53487953\n",
      "Iteration 23, loss = 0.52639487\n",
      "Iteration 24, loss = 0.52263561\n",
      "Iteration 25, loss = 0.51471854\n",
      "Iteration 26, loss = 0.51070138\n",
      "Iteration 27, loss = 0.50431362\n",
      "Iteration 28, loss = 0.49875759\n",
      "Iteration 29, loss = 0.49397307\n",
      "Iteration 30, loss = 0.49112057\n",
      "Iteration 31, loss = 0.48651570\n",
      "Iteration 32, loss = 0.48150884\n",
      "Iteration 33, loss = 0.47820577\n",
      "Iteration 34, loss = 0.47271952\n",
      "Iteration 35, loss = 0.46949301\n",
      "Iteration 36, loss = 0.46651783\n",
      "Iteration 37, loss = 0.46388830\n",
      "Iteration 38, loss = 0.46033173\n",
      "Iteration 39, loss = 0.45727700\n",
      "Iteration 40, loss = 0.45363377\n",
      "Iteration 41, loss = 0.45071524\n",
      "Iteration 42, loss = 0.44864942\n",
      "Iteration 43, loss = 0.44445487\n",
      "Iteration 44, loss = 0.44466668\n",
      "Iteration 45, loss = 0.43909776\n",
      "Iteration 46, loss = 0.43650913\n",
      "Iteration 47, loss = 0.43522993\n",
      "Iteration 48, loss = 0.43080280\n",
      "Iteration 49, loss = 0.42991521\n",
      "Iteration 50, loss = 0.42645363\n",
      "Iteration 51, loss = 0.42360301\n",
      "Iteration 52, loss = 0.42242070\n",
      "Iteration 53, loss = 0.41905362\n",
      "Iteration 54, loss = 0.41791331\n",
      "Iteration 55, loss = 0.41663219\n",
      "Iteration 56, loss = 0.41369174\n",
      "Iteration 57, loss = 0.41028786\n",
      "Iteration 58, loss = 0.40900138\n",
      "Iteration 59, loss = 0.40801301\n",
      "Iteration 60, loss = 0.40459020\n",
      "Iteration 61, loss = 0.40239390\n",
      "Iteration 62, loss = 0.40144321\n",
      "Iteration 63, loss = 0.39880872\n",
      "Iteration 64, loss = 0.39524790\n",
      "Iteration 65, loss = 0.39448132\n",
      "Iteration 66, loss = 0.39424599\n",
      "Iteration 67, loss = 0.39257584\n",
      "Iteration 68, loss = 0.38957257\n",
      "Iteration 69, loss = 0.38947826\n",
      "Iteration 70, loss = 0.38632305\n",
      "Iteration 71, loss = 0.38380351\n",
      "Iteration 72, loss = 0.38179457\n",
      "Iteration 73, loss = 0.38127145\n",
      "Iteration 74, loss = 0.37872275\n",
      "Iteration 75, loss = 0.37618206\n",
      "Iteration 76, loss = 0.37534976\n",
      "Iteration 77, loss = 0.37353986\n",
      "Iteration 78, loss = 0.37138858\n",
      "Iteration 79, loss = 0.37019971\n",
      "Iteration 80, loss = 0.36872801\n",
      "Iteration 81, loss = 0.36689813\n",
      "Iteration 82, loss = 0.36544927\n",
      "Iteration 83, loss = 0.36440903\n",
      "Iteration 84, loss = 0.36126752\n",
      "Iteration 85, loss = 0.35902101\n",
      "Iteration 86, loss = 0.35988338\n",
      "Iteration 87, loss = 0.35665613\n",
      "Iteration 88, loss = 0.35670970\n",
      "Iteration 89, loss = 0.35374205\n",
      "Iteration 90, loss = 0.35353101\n",
      "Iteration 91, loss = 0.35191086\n",
      "Iteration 92, loss = 0.35033302\n",
      "Iteration 93, loss = 0.35085334\n",
      "Iteration 94, loss = 0.34820271\n",
      "Iteration 95, loss = 0.34691583\n",
      "Iteration 96, loss = 0.34425537\n",
      "Iteration 97, loss = 0.34299297\n",
      "Iteration 98, loss = 0.34206948\n",
      "Iteration 99, loss = 0.34007050\n",
      "Iteration 100, loss = 0.33844079\n",
      "Iteration 101, loss = 0.33845623\n",
      "Iteration 102, loss = 0.33635552\n",
      "Iteration 103, loss = 0.33459919\n",
      "Iteration 104, loss = 0.33429243\n",
      "Iteration 105, loss = 0.33226265\n",
      "Iteration 106, loss = 0.33282403\n",
      "Iteration 107, loss = 0.33063298\n",
      "Iteration 108, loss = 0.32930530\n",
      "Iteration 109, loss = 0.32931927\n",
      "Iteration 110, loss = 0.32623420\n",
      "Iteration 111, loss = 0.32505420\n",
      "Iteration 112, loss = 0.32323444\n",
      "Iteration 113, loss = 0.32276098\n",
      "Iteration 114, loss = 0.32091349\n",
      "Iteration 115, loss = 0.32061480\n",
      "Iteration 116, loss = 0.31908657\n",
      "Iteration 117, loss = 0.31590297\n",
      "Iteration 118, loss = 0.31562964\n",
      "Iteration 119, loss = 0.31390784\n",
      "Iteration 120, loss = 0.31466992\n",
      "Iteration 121, loss = 0.31194289\n",
      "Iteration 122, loss = 0.31174929\n",
      "Iteration 123, loss = 0.31117288\n",
      "Iteration 124, loss = 0.31404286\n",
      "Iteration 125, loss = 0.30939713\n",
      "Iteration 126, loss = 0.30740425\n",
      "Iteration 127, loss = 0.30498627\n",
      "Iteration 128, loss = 0.30470717\n",
      "Iteration 129, loss = 0.30369377\n",
      "Iteration 130, loss = 0.30110262\n",
      "Iteration 131, loss = 0.30325996\n",
      "Iteration 132, loss = 0.29986065\n",
      "Iteration 133, loss = 0.30081208\n",
      "Iteration 134, loss = 0.29729826\n",
      "Iteration 135, loss = 0.29529328\n",
      "Iteration 136, loss = 0.29532080\n",
      "Iteration 137, loss = 0.29262849\n",
      "Iteration 138, loss = 0.29301648\n",
      "Iteration 139, loss = 0.29398054\n",
      "Iteration 140, loss = 0.29100094\n",
      "Iteration 141, loss = 0.28916487\n",
      "Iteration 142, loss = 0.28787894\n",
      "Iteration 143, loss = 0.28888002\n",
      "Iteration 144, loss = 0.28865560\n",
      "Iteration 145, loss = 0.28518122\n",
      "Iteration 146, loss = 0.28429099\n",
      "Iteration 147, loss = 0.28332026\n",
      "Iteration 148, loss = 0.28252632\n",
      "Iteration 149, loss = 0.27897995\n",
      "Iteration 150, loss = 0.27915657\n",
      "Iteration 151, loss = 0.27809405\n",
      "Iteration 152, loss = 0.27914584\n",
      "Iteration 153, loss = 0.27750300\n",
      "Iteration 154, loss = 0.27771871\n",
      "Iteration 155, loss = 0.27666409\n",
      "Iteration 156, loss = 0.27352351\n",
      "Iteration 157, loss = 0.27430657\n",
      "Iteration 158, loss = 0.27109702\n",
      "Iteration 159, loss = 0.26998918\n",
      "Iteration 160, loss = 0.27015316\n",
      "Iteration 161, loss = 0.26950332\n",
      "Iteration 162, loss = 0.26904205\n",
      "Iteration 163, loss = 0.26590570\n",
      "Iteration 164, loss = 0.26677812\n",
      "Iteration 165, loss = 0.26421629\n",
      "Iteration 166, loss = 0.26218236\n",
      "Iteration 167, loss = 0.26254588\n",
      "Iteration 168, loss = 0.26014925\n",
      "Iteration 169, loss = 0.25917172\n",
      "Iteration 170, loss = 0.25847832\n",
      "Iteration 171, loss = 0.25948059\n",
      "Iteration 172, loss = 0.25532316\n",
      "Iteration 173, loss = 0.25725554\n",
      "Iteration 174, loss = 0.25645747\n",
      "Iteration 175, loss = 0.25558403\n",
      "Iteration 176, loss = 0.25373676\n",
      "Iteration 177, loss = 0.25236651\n",
      "Iteration 178, loss = 0.25205433\n",
      "Iteration 179, loss = 0.25085252\n",
      "Iteration 180, loss = 0.24958146\n",
      "Iteration 181, loss = 0.24923177\n",
      "Iteration 182, loss = 0.24656299\n",
      "Iteration 183, loss = 0.24555947\n",
      "Iteration 184, loss = 0.24454608\n",
      "Iteration 185, loss = 0.24520669\n",
      "Iteration 186, loss = 0.24534742\n",
      "Iteration 187, loss = 0.24317644\n",
      "Iteration 188, loss = 0.24336161\n",
      "Iteration 189, loss = 0.24212526\n",
      "Iteration 190, loss = 0.24069473\n",
      "Iteration 191, loss = 0.23946842\n",
      "Iteration 192, loss = 0.24416981\n",
      "Iteration 193, loss = 0.23942595\n",
      "Iteration 194, loss = 0.23716170\n",
      "Iteration 195, loss = 0.23647764\n",
      "Iteration 196, loss = 0.23531554\n",
      "Iteration 197, loss = 0.23585822\n",
      "Iteration 198, loss = 0.23576354\n",
      "Iteration 199, loss = 0.23155677\n",
      "Iteration 200, loss = 0.23081796\n",
      "Iteration 201, loss = 0.22958349\n",
      "Iteration 202, loss = 0.22926124\n",
      "Iteration 203, loss = 0.22919182\n",
      "Iteration 204, loss = 0.22941243\n",
      "Iteration 205, loss = 0.22680053\n",
      "Iteration 206, loss = 0.22651949\n",
      "Iteration 207, loss = 0.22619612\n",
      "Iteration 208, loss = 0.22442211\n",
      "Iteration 209, loss = 0.22537525\n",
      "Iteration 210, loss = 0.22546703\n",
      "Iteration 211, loss = 0.22363367\n",
      "Iteration 212, loss = 0.21974858\n",
      "Iteration 213, loss = 0.22111666\n",
      "Iteration 214, loss = 0.21991414\n",
      "Iteration 215, loss = 0.21842385\n",
      "Iteration 216, loss = 0.21789402\n",
      "Iteration 217, loss = 0.21657324\n",
      "Iteration 218, loss = 0.21617057\n",
      "Iteration 219, loss = 0.21592557\n",
      "Iteration 220, loss = 0.21376008\n",
      "Iteration 221, loss = 0.21527509\n",
      "Iteration 222, loss = 0.21321350\n",
      "Iteration 223, loss = 0.21299758\n",
      "Iteration 224, loss = 0.21076112\n",
      "Iteration 225, loss = 0.21089796\n",
      "Iteration 226, loss = 0.21163089\n",
      "Iteration 227, loss = 0.21105328\n",
      "Iteration 228, loss = 0.20861485\n",
      "Iteration 229, loss = 0.20663475\n",
      "Iteration 230, loss = 0.20533360\n",
      "Iteration 231, loss = 0.20713567\n",
      "Iteration 232, loss = 0.20475055\n",
      "Iteration 233, loss = 0.20331624\n",
      "Iteration 234, loss = 0.20394034\n",
      "Iteration 235, loss = 0.20423810\n",
      "Iteration 236, loss = 0.20119597\n",
      "Iteration 237, loss = 0.20280954\n",
      "Iteration 238, loss = 0.20060927\n",
      "Iteration 239, loss = 0.20207000\n",
      "Iteration 240, loss = 0.19843184\n",
      "Iteration 241, loss = 0.20157575\n",
      "Iteration 242, loss = 0.19793933\n",
      "Iteration 243, loss = 0.19746034\n",
      "Iteration 244, loss = 0.19548685\n",
      "Iteration 245, loss = 0.19440513\n",
      "Iteration 246, loss = 0.19422844\n",
      "Iteration 247, loss = 0.19505083\n",
      "Iteration 248, loss = 0.19248903\n",
      "Iteration 249, loss = 0.19161997\n",
      "Iteration 250, loss = 0.19519691\n",
      "Iteration 251, loss = 0.18975660\n",
      "Iteration 252, loss = 0.19288432\n"
     ]
    },
    {
     "name": "stdout",
     "output_type": "stream",
     "text": [
      "Iteration 253, loss = 0.18953199\n",
      "Iteration 254, loss = 0.19120124\n",
      "Iteration 255, loss = 0.18927672\n",
      "Iteration 256, loss = 0.18789534\n",
      "Iteration 257, loss = 0.18656854\n",
      "Iteration 258, loss = 0.18687118\n",
      "Iteration 259, loss = 0.18390069\n",
      "Iteration 260, loss = 0.18511819\n",
      "Iteration 261, loss = 0.18473671\n",
      "Iteration 262, loss = 0.18337267\n",
      "Iteration 263, loss = 0.18145562\n",
      "Iteration 264, loss = 0.18549010\n",
      "Iteration 265, loss = 0.18076631\n",
      "Iteration 266, loss = 0.18227839\n",
      "Iteration 267, loss = 0.18208932\n",
      "Iteration 268, loss = 0.17874142\n",
      "Iteration 269, loss = 0.17825848\n",
      "Iteration 270, loss = 0.18041123\n",
      "Iteration 271, loss = 0.17824822\n",
      "Iteration 272, loss = 0.17899231\n",
      "Iteration 273, loss = 0.17494055\n",
      "Iteration 274, loss = 0.17543201\n",
      "Iteration 275, loss = 0.17382175\n",
      "Iteration 276, loss = 0.17547783\n",
      "Iteration 277, loss = 0.17322062\n",
      "Iteration 278, loss = 0.17450882\n",
      "Iteration 279, loss = 0.17176686\n",
      "Iteration 280, loss = 0.17159613\n",
      "Iteration 281, loss = 0.17078072\n",
      "Iteration 282, loss = 0.17120624\n",
      "Iteration 283, loss = 0.16857529\n",
      "Iteration 284, loss = 0.16947335\n",
      "Iteration 285, loss = 0.16924020\n",
      "Iteration 286, loss = 0.16621702\n",
      "Iteration 287, loss = 0.16632491\n",
      "Iteration 288, loss = 0.16812315\n",
      "Iteration 289, loss = 0.16612106\n",
      "Iteration 290, loss = 0.16441755\n",
      "Iteration 291, loss = 0.16614744\n",
      "Iteration 292, loss = 0.16358826\n",
      "Iteration 293, loss = 0.16215051\n",
      "Iteration 294, loss = 0.16423883\n",
      "Iteration 295, loss = 0.16233493\n",
      "Iteration 296, loss = 0.16411780\n",
      "Iteration 297, loss = 0.16209253\n",
      "Iteration 298, loss = 0.16014823\n",
      "Iteration 299, loss = 0.15944652\n",
      "Iteration 300, loss = 0.15923521\n",
      "Iteration 301, loss = 0.15734931\n",
      "Iteration 302, loss = 0.15706209\n",
      "Iteration 303, loss = 0.15773005\n",
      "Iteration 304, loss = 0.15766841\n",
      "Iteration 305, loss = 0.15537174\n",
      "Iteration 306, loss = 0.15411311\n",
      "Iteration 307, loss = 0.15361494\n",
      "Iteration 308, loss = 0.15385189\n",
      "Iteration 309, loss = 0.15467911\n",
      "Iteration 310, loss = 0.15249847\n",
      "Iteration 311, loss = 0.15097295\n",
      "Iteration 312, loss = 0.15059310\n",
      "Iteration 313, loss = 0.15039493\n",
      "Iteration 314, loss = 0.14869202\n",
      "Iteration 315, loss = 0.15076046\n",
      "Iteration 316, loss = 0.15016011\n",
      "Iteration 317, loss = 0.14964497\n",
      "Iteration 318, loss = 0.14761909\n",
      "Iteration 319, loss = 0.14767647\n",
      "Iteration 320, loss = 0.14667347\n",
      "Iteration 321, loss = 0.15021778\n",
      "Iteration 322, loss = 0.14651104\n",
      "Iteration 323, loss = 0.14434000\n",
      "Iteration 324, loss = 0.14709649\n",
      "Iteration 325, loss = 0.14541635\n",
      "Iteration 326, loss = 0.14388348\n",
      "Iteration 327, loss = 0.14525653\n",
      "Iteration 328, loss = 0.14322885\n",
      "Iteration 329, loss = 0.14191502\n",
      "Iteration 330, loss = 0.14255081\n",
      "Iteration 331, loss = 0.14369260\n",
      "Iteration 332, loss = 0.14259960\n",
      "Iteration 333, loss = 0.14154841\n",
      "Iteration 334, loss = 0.13919923\n",
      "Iteration 335, loss = 0.14118653\n",
      "Iteration 336, loss = 0.13937045\n",
      "Iteration 337, loss = 0.13717438\n",
      "Iteration 338, loss = 0.13644017\n",
      "Iteration 339, loss = 0.13703733\n",
      "Iteration 340, loss = 0.13632133\n",
      "Iteration 341, loss = 0.13748261\n",
      "Iteration 342, loss = 0.13708529\n",
      "Iteration 343, loss = 0.13612252\n",
      "Iteration 344, loss = 0.13317874\n",
      "Iteration 345, loss = 0.13598284\n",
      "Iteration 346, loss = 0.13479718\n",
      "Iteration 347, loss = 0.13270806\n",
      "Iteration 348, loss = 0.13168211\n",
      "Iteration 349, loss = 0.13721780\n",
      "Iteration 350, loss = 0.13134560\n",
      "Iteration 351, loss = 0.13118895\n",
      "Iteration 352, loss = 0.13048109\n",
      "Iteration 353, loss = 0.13274239\n",
      "Iteration 354, loss = 0.12965969\n",
      "Iteration 355, loss = 0.13134771\n",
      "Iteration 356, loss = 0.12982197\n",
      "Iteration 357, loss = 0.12962798\n",
      "Iteration 358, loss = 0.12720747\n",
      "Iteration 359, loss = 0.12945147\n",
      "Iteration 360, loss = 0.12708971\n",
      "Iteration 361, loss = 0.12724821\n",
      "Iteration 362, loss = 0.12755235\n",
      "Iteration 363, loss = 0.12442648\n",
      "Iteration 364, loss = 0.12704993\n",
      "Iteration 365, loss = 0.12484297\n",
      "Iteration 366, loss = 0.12593290\n",
      "Iteration 367, loss = 0.12718633\n",
      "Iteration 368, loss = 0.12451047\n",
      "Iteration 369, loss = 0.12353379\n",
      "Iteration 370, loss = 0.12471922\n",
      "Iteration 371, loss = 0.12188575\n",
      "Iteration 372, loss = 0.12158665\n",
      "Iteration 373, loss = 0.12094262\n",
      "Iteration 374, loss = 0.12250856\n",
      "Iteration 375, loss = 0.11869036\n",
      "Iteration 376, loss = 0.12003182\n",
      "Iteration 377, loss = 0.12194033\n",
      "Iteration 378, loss = 0.11762449\n",
      "Iteration 379, loss = 0.12015152\n",
      "Iteration 380, loss = 0.11780548\n",
      "Iteration 381, loss = 0.11716400\n",
      "Iteration 382, loss = 0.11835176\n",
      "Iteration 383, loss = 0.11920259\n",
      "Iteration 384, loss = 0.11791141\n",
      "Iteration 385, loss = 0.11604935\n",
      "Iteration 386, loss = 0.11746300\n",
      "Iteration 387, loss = 0.11502608\n",
      "Iteration 388, loss = 0.11540049\n",
      "Iteration 389, loss = 0.11740560\n",
      "Iteration 390, loss = 0.11291482\n",
      "Iteration 391, loss = 0.11250078\n",
      "Iteration 392, loss = 0.11419511\n",
      "Iteration 393, loss = 0.11554303\n",
      "Iteration 394, loss = 0.11554610\n",
      "Iteration 395, loss = 0.11255403\n",
      "Iteration 396, loss = 0.11176303\n",
      "Iteration 397, loss = 0.11029723\n",
      "Iteration 398, loss = 0.11301909\n",
      "Iteration 399, loss = 0.10900342\n",
      "Iteration 400, loss = 0.11258716\n",
      "Iteration 401, loss = 0.10878678\n",
      "Iteration 402, loss = 0.11054216\n",
      "Iteration 403, loss = 0.10791368\n",
      "Iteration 404, loss = 0.10916748\n",
      "Iteration 405, loss = 0.10692176\n",
      "Iteration 406, loss = 0.10799178\n",
      "Iteration 407, loss = 0.10643845\n",
      "Iteration 408, loss = 0.10871950\n",
      "Iteration 409, loss = 0.11177590\n",
      "Iteration 410, loss = 0.10576684\n",
      "Iteration 411, loss = 0.10834075\n",
      "Iteration 412, loss = 0.10636611\n",
      "Iteration 413, loss = 0.10951545\n",
      "Iteration 414, loss = 0.10655665\n",
      "Iteration 415, loss = 0.10362311\n",
      "Iteration 416, loss = 0.10466074\n",
      "Iteration 417, loss = 0.10334692\n",
      "Iteration 418, loss = 0.10524240\n",
      "Iteration 419, loss = 0.10139650\n",
      "Iteration 420, loss = 0.10310534\n",
      "Iteration 421, loss = 0.10175264\n",
      "Iteration 422, loss = 0.10594259\n",
      "Iteration 423, loss = 0.10469304\n",
      "Iteration 424, loss = 0.10039972\n",
      "Iteration 425, loss = 0.10126956\n",
      "Iteration 426, loss = 0.10253952\n",
      "Iteration 427, loss = 0.10234511\n",
      "Iteration 428, loss = 0.10072065\n",
      "Iteration 429, loss = 0.09926213\n",
      "Iteration 430, loss = 0.10198754\n",
      "Iteration 431, loss = 0.09884174\n",
      "Iteration 432, loss = 0.09938551\n",
      "Iteration 433, loss = 0.09936860\n",
      "Iteration 434, loss = 0.10256508\n",
      "Iteration 435, loss = 0.09623383\n",
      "Iteration 436, loss = 0.09673714\n",
      "Iteration 437, loss = 0.09622486\n",
      "Iteration 438, loss = 0.09788174\n",
      "Iteration 439, loss = 0.09624391\n",
      "Iteration 440, loss = 0.09716711\n",
      "Iteration 441, loss = 0.09832692\n",
      "Iteration 442, loss = 0.09555200\n",
      "Iteration 443, loss = 0.09443559\n",
      "Iteration 444, loss = 0.09682114\n",
      "Iteration 445, loss = 0.09517541\n",
      "Iteration 446, loss = 0.09369101\n",
      "Iteration 447, loss = 0.09357273\n",
      "Iteration 448, loss = 0.09345315\n",
      "Iteration 449, loss = 0.09276617\n",
      "Iteration 450, loss = 0.09236407\n",
      "Iteration 451, loss = 0.09279742\n",
      "Iteration 452, loss = 0.09001496\n",
      "Iteration 453, loss = 0.09269066\n",
      "Iteration 454, loss = 0.09199615\n",
      "Iteration 455, loss = 0.09171664\n",
      "Iteration 456, loss = 0.09205326\n",
      "Iteration 457, loss = 0.09192992\n",
      "Iteration 458, loss = 0.08964005\n",
      "Iteration 459, loss = 0.08919746\n",
      "Iteration 460, loss = 0.09196203\n",
      "Iteration 461, loss = 0.08975908\n",
      "Iteration 462, loss = 0.08901752\n",
      "Iteration 463, loss = 0.08756344\n",
      "Iteration 464, loss = 0.08851027\n",
      "Iteration 465, loss = 0.08863909\n",
      "Iteration 466, loss = 0.08668032\n",
      "Iteration 467, loss = 0.08604206\n",
      "Iteration 468, loss = 0.08933222\n",
      "Iteration 469, loss = 0.08543454\n",
      "Iteration 470, loss = 0.08531030\n",
      "Iteration 471, loss = 0.08493711\n",
      "Iteration 472, loss = 0.08523971\n",
      "Iteration 473, loss = 0.08626042\n",
      "Iteration 474, loss = 0.08466438\n",
      "Iteration 475, loss = 0.08492619\n",
      "Iteration 476, loss = 0.08345380\n",
      "Iteration 477, loss = 0.08378362\n",
      "Iteration 478, loss = 0.08351317\n",
      "Iteration 479, loss = 0.08378412\n",
      "Iteration 480, loss = 0.08415625\n",
      "Iteration 481, loss = 0.08292601\n",
      "Iteration 482, loss = 0.08186070\n",
      "Iteration 483, loss = 0.08298727\n",
      "Iteration 484, loss = 0.08251693\n",
      "Iteration 485, loss = 0.08201440\n",
      "Iteration 486, loss = 0.08490351\n",
      "Iteration 487, loss = 0.08377623\n",
      "Iteration 488, loss = 0.08167523\n",
      "Iteration 489, loss = 0.08139986\n",
      "Iteration 490, loss = 0.07887585\n",
      "Iteration 491, loss = 0.08034353\n",
      "Iteration 492, loss = 0.08104642\n",
      "Iteration 493, loss = 0.07906244\n",
      "Iteration 494, loss = 0.08168291\n",
      "Iteration 495, loss = 0.08204755\n",
      "Iteration 496, loss = 0.07939712\n",
      "Iteration 497, loss = 0.07883583\n",
      "Iteration 498, loss = 0.07827858\n",
      "Iteration 499, loss = 0.07874623\n",
      "Iteration 500, loss = 0.07930883\n",
      "Iteration 501, loss = 0.07769463\n",
      "Iteration 502, loss = 0.07806403\n",
      "Iteration 503, loss = 0.07663547\n",
      "Iteration 504, loss = 0.07666701\n",
      "Iteration 505, loss = 0.07913290\n"
     ]
    },
    {
     "name": "stdout",
     "output_type": "stream",
     "text": [
      "Iteration 506, loss = 0.07677903\n",
      "Iteration 507, loss = 0.07648105\n",
      "Iteration 508, loss = 0.07657674\n",
      "Iteration 509, loss = 0.07726187\n",
      "Iteration 510, loss = 0.07686411\n",
      "Iteration 511, loss = 0.07605475\n",
      "Iteration 512, loss = 0.07657435\n",
      "Iteration 513, loss = 0.07504720\n",
      "Iteration 514, loss = 0.07359423\n",
      "Iteration 515, loss = 0.07364557\n",
      "Iteration 516, loss = 0.07356544\n",
      "Iteration 517, loss = 0.07308800\n",
      "Iteration 518, loss = 0.07402761\n",
      "Iteration 519, loss = 0.07318488\n",
      "Iteration 520, loss = 0.07311313\n",
      "Iteration 521, loss = 0.07507310\n",
      "Iteration 522, loss = 0.07334540\n",
      "Iteration 523, loss = 0.07207599\n",
      "Iteration 524, loss = 0.07212119\n",
      "Iteration 525, loss = 0.07243605\n",
      "Iteration 526, loss = 0.07039265\n",
      "Iteration 527, loss = 0.07195332\n",
      "Iteration 528, loss = 0.07068899\n",
      "Iteration 529, loss = 0.07064915\n",
      "Iteration 530, loss = 0.06969155\n",
      "Iteration 531, loss = 0.07017323\n",
      "Iteration 532, loss = 0.06969776\n",
      "Iteration 533, loss = 0.06971557\n",
      "Iteration 534, loss = 0.07295379\n",
      "Iteration 535, loss = 0.07107931\n",
      "Iteration 536, loss = 0.06830851\n",
      "Iteration 537, loss = 0.06910836\n",
      "Iteration 538, loss = 0.06944818\n",
      "Iteration 539, loss = 0.06877465\n",
      "Iteration 540, loss = 0.06917230\n",
      "Iteration 541, loss = 0.06713711\n",
      "Iteration 542, loss = 0.06922729\n",
      "Iteration 543, loss = 0.07005601\n",
      "Iteration 544, loss = 0.06807766\n",
      "Iteration 545, loss = 0.06862046\n",
      "Iteration 546, loss = 0.06750028\n",
      "Iteration 547, loss = 0.06700881\n",
      "Iteration 548, loss = 0.06617216\n",
      "Iteration 549, loss = 0.06617810\n",
      "Iteration 550, loss = 0.06595570\n",
      "Iteration 551, loss = 0.06521020\n",
      "Iteration 552, loss = 0.06612441\n",
      "Iteration 553, loss = 0.06672349\n",
      "Iteration 554, loss = 0.06464583\n",
      "Iteration 555, loss = 0.06412448\n",
      "Iteration 556, loss = 0.06560506\n",
      "Iteration 557, loss = 0.06589087\n",
      "Iteration 558, loss = 0.06464588\n",
      "Iteration 559, loss = 0.06309958\n",
      "Iteration 560, loss = 0.06432948\n",
      "Iteration 561, loss = 0.06377449\n",
      "Iteration 562, loss = 0.06317604\n",
      "Iteration 563, loss = 0.06401827\n",
      "Iteration 564, loss = 0.06271813\n",
      "Iteration 565, loss = 0.06228736\n",
      "Iteration 566, loss = 0.06294065\n",
      "Iteration 567, loss = 0.06216859\n",
      "Iteration 568, loss = 0.06484835\n",
      "Iteration 569, loss = 0.06279479\n",
      "Iteration 570, loss = 0.06109270\n",
      "Iteration 571, loss = 0.06302021\n",
      "Iteration 572, loss = 0.06199355\n",
      "Iteration 573, loss = 0.06186050\n",
      "Iteration 574, loss = 0.06139585\n",
      "Iteration 575, loss = 0.06213900\n",
      "Iteration 576, loss = 0.06028038\n",
      "Iteration 577, loss = 0.06125067\n",
      "Iteration 578, loss = 0.05986731\n",
      "Iteration 579, loss = 0.05981248\n",
      "Iteration 580, loss = 0.05989140\n",
      "Iteration 581, loss = 0.05974410\n",
      "Iteration 582, loss = 0.06023283\n",
      "Iteration 583, loss = 0.05838404\n",
      "Iteration 584, loss = 0.06171670\n",
      "Iteration 585, loss = 0.05919390\n",
      "Iteration 586, loss = 0.05965139\n",
      "Iteration 587, loss = 0.05794960\n",
      "Iteration 588, loss = 0.05769677\n",
      "Iteration 589, loss = 0.05783711\n",
      "Iteration 590, loss = 0.05771911\n",
      "Iteration 591, loss = 0.06009116\n",
      "Iteration 592, loss = 0.05774885\n",
      "Iteration 593, loss = 0.05809560\n",
      "Iteration 594, loss = 0.05757630\n",
      "Iteration 595, loss = 0.06048140\n",
      "Iteration 596, loss = 0.05714598\n",
      "Iteration 597, loss = 0.05641435\n",
      "Iteration 598, loss = 0.05917577\n",
      "Iteration 599, loss = 0.05856663\n",
      "Iteration 600, loss = 0.05582319\n",
      "Iteration 601, loss = 0.05525106\n",
      "Iteration 602, loss = 0.05706602\n",
      "Iteration 603, loss = 0.05717960\n",
      "Iteration 604, loss = 0.05687053\n",
      "Iteration 605, loss = 0.05603028\n",
      "Iteration 606, loss = 0.05599848\n",
      "Iteration 607, loss = 0.05503164\n",
      "Iteration 608, loss = 0.05600182\n",
      "Iteration 609, loss = 0.05662226\n",
      "Iteration 610, loss = 0.05503567\n",
      "Iteration 611, loss = 0.05419020\n",
      "Iteration 612, loss = 0.05412091\n",
      "Iteration 613, loss = 0.05464032\n",
      "Iteration 614, loss = 0.05400761\n",
      "Iteration 615, loss = 0.05372707\n",
      "Iteration 616, loss = 0.05386153\n",
      "Iteration 617, loss = 0.05587204\n",
      "Iteration 618, loss = 0.05334178\n",
      "Iteration 619, loss = 0.05410458\n",
      "Iteration 620, loss = 0.05309916\n",
      "Iteration 621, loss = 0.05463750\n",
      "Iteration 622, loss = 0.05284587\n",
      "Iteration 623, loss = 0.05249996\n",
      "Iteration 624, loss = 0.05259250\n",
      "Iteration 625, loss = 0.05194120\n",
      "Iteration 626, loss = 0.05188556\n",
      "Iteration 627, loss = 0.05159927\n",
      "Iteration 628, loss = 0.05243621\n",
      "Iteration 629, loss = 0.05202047\n",
      "Iteration 630, loss = 0.05175559\n",
      "Iteration 631, loss = 0.05165344\n",
      "Iteration 632, loss = 0.05177469\n",
      "Iteration 633, loss = 0.05263711\n",
      "Iteration 634, loss = 0.05083996\n",
      "Iteration 635, loss = 0.05126234\n",
      "Iteration 636, loss = 0.05036804\n",
      "Iteration 637, loss = 0.05107386\n",
      "Iteration 638, loss = 0.05057216\n",
      "Iteration 639, loss = 0.05088715\n",
      "Iteration 640, loss = 0.04954184\n",
      "Iteration 641, loss = 0.04966928\n",
      "Iteration 642, loss = 0.04930194\n",
      "Iteration 643, loss = 0.05042680\n",
      "Iteration 644, loss = 0.04950814\n",
      "Iteration 645, loss = 0.05067155\n",
      "Iteration 646, loss = 0.04824481\n",
      "Iteration 647, loss = 0.05261233\n",
      "Iteration 648, loss = 0.04853860\n",
      "Iteration 649, loss = 0.04813203\n",
      "Iteration 650, loss = 0.04837084\n",
      "Iteration 651, loss = 0.04784727\n",
      "Iteration 652, loss = 0.04784850\n",
      "Iteration 653, loss = 0.04802887\n",
      "Iteration 654, loss = 0.04740758\n",
      "Iteration 655, loss = 0.04775902\n",
      "Iteration 656, loss = 0.04685441\n",
      "Iteration 657, loss = 0.04713094\n",
      "Iteration 658, loss = 0.04770806\n",
      "Iteration 659, loss = 0.04679134\n",
      "Iteration 660, loss = 0.04645859\n",
      "Iteration 661, loss = 0.04615446\n",
      "Iteration 662, loss = 0.04636070\n",
      "Iteration 663, loss = 0.04656404\n",
      "Iteration 664, loss = 0.04809885\n",
      "Iteration 665, loss = 0.04669515\n",
      "Iteration 666, loss = 0.04743528\n",
      "Iteration 667, loss = 0.04590170\n",
      "Iteration 668, loss = 0.04574437\n",
      "Iteration 669, loss = 0.04532473\n",
      "Iteration 670, loss = 0.04470286\n",
      "Iteration 671, loss = 0.04596797\n",
      "Iteration 672, loss = 0.04582418\n",
      "Iteration 673, loss = 0.04532483\n",
      "Iteration 674, loss = 0.04656176\n",
      "Iteration 675, loss = 0.04580532\n",
      "Iteration 676, loss = 0.04583420\n",
      "Iteration 677, loss = 0.04532427\n",
      "Iteration 678, loss = 0.04412761\n",
      "Iteration 679, loss = 0.04448560\n",
      "Iteration 680, loss = 0.04384541\n",
      "Iteration 681, loss = 0.04404281\n",
      "Iteration 682, loss = 0.04434577\n",
      "Iteration 683, loss = 0.04542690\n",
      "Iteration 684, loss = 0.04397611\n",
      "Iteration 685, loss = 0.04360570\n",
      "Iteration 686, loss = 0.04263638\n",
      "Iteration 687, loss = 0.04287866\n",
      "Iteration 688, loss = 0.04318713\n",
      "Iteration 689, loss = 0.04269037\n",
      "Iteration 690, loss = 0.04339389\n",
      "Iteration 691, loss = 0.04247831\n",
      "Iteration 692, loss = 0.04347031\n",
      "Iteration 693, loss = 0.04287543\n",
      "Iteration 694, loss = 0.04381298\n",
      "Iteration 695, loss = 0.04432250\n",
      "Iteration 696, loss = 0.04226675\n",
      "Iteration 697, loss = 0.04258672\n",
      "Iteration 698, loss = 0.04157230\n",
      "Iteration 699, loss = 0.04212020\n",
      "Iteration 700, loss = 0.04239784\n",
      "Iteration 701, loss = 0.04250551\n",
      "Iteration 702, loss = 0.04146239\n",
      "Iteration 703, loss = 0.04181094\n",
      "Iteration 704, loss = 0.04100846\n",
      "Iteration 705, loss = 0.04104195\n",
      "Iteration 706, loss = 0.04105020\n",
      "Iteration 707, loss = 0.04121360\n",
      "Iteration 708, loss = 0.04173803\n",
      "Iteration 709, loss = 0.04061973\n",
      "Iteration 710, loss = 0.04113666\n",
      "Iteration 711, loss = 0.04079366\n",
      "Iteration 712, loss = 0.04143876\n",
      "Iteration 713, loss = 0.04154185\n",
      "Iteration 714, loss = 0.04094612\n",
      "Iteration 715, loss = 0.03955858\n",
      "Iteration 716, loss = 0.03957707\n",
      "Iteration 717, loss = 0.03956667\n",
      "Iteration 718, loss = 0.03980075\n",
      "Iteration 719, loss = 0.03923601\n",
      "Iteration 720, loss = 0.04008111\n",
      "Iteration 721, loss = 0.04107011\n",
      "Iteration 722, loss = 0.03964584\n",
      "Iteration 723, loss = 0.03939540\n",
      "Iteration 724, loss = 0.03888758\n",
      "Iteration 725, loss = 0.03954660\n",
      "Iteration 726, loss = 0.03843215\n",
      "Iteration 727, loss = 0.03918379\n",
      "Iteration 728, loss = 0.03853231\n",
      "Iteration 729, loss = 0.03902813\n",
      "Iteration 730, loss = 0.03835369\n",
      "Iteration 731, loss = 0.03913475\n",
      "Iteration 732, loss = 0.04030344\n",
      "Iteration 733, loss = 0.03807925\n",
      "Iteration 734, loss = 0.03791865\n",
      "Iteration 735, loss = 0.03803931\n",
      "Iteration 736, loss = 0.03803344\n",
      "Iteration 737, loss = 0.03821934\n",
      "Iteration 738, loss = 0.03805612\n",
      "Iteration 739, loss = 0.03956134\n",
      "Iteration 740, loss = 0.03775247\n",
      "Iteration 741, loss = 0.03717695\n",
      "Iteration 742, loss = 0.03733595\n",
      "Iteration 743, loss = 0.03743399\n",
      "Iteration 744, loss = 0.03706872\n",
      "Iteration 745, loss = 0.03849983\n",
      "Iteration 746, loss = 0.03678551\n",
      "Iteration 747, loss = 0.03698729\n",
      "Iteration 748, loss = 0.03620223\n",
      "Iteration 749, loss = 0.03761156\n",
      "Iteration 750, loss = 0.03636984\n",
      "Iteration 751, loss = 0.03692087\n",
      "Iteration 752, loss = 0.03616026\n",
      "Iteration 753, loss = 0.03729452\n",
      "Iteration 754, loss = 0.03569401\n",
      "Iteration 755, loss = 0.03612466\n",
      "Iteration 756, loss = 0.03545726\n"
     ]
    },
    {
     "name": "stdout",
     "output_type": "stream",
     "text": [
      "Iteration 757, loss = 0.03543539\n",
      "Iteration 758, loss = 0.03788907\n",
      "Iteration 759, loss = 0.03591450\n",
      "Iteration 760, loss = 0.03610216\n",
      "Iteration 761, loss = 0.03510155\n",
      "Iteration 762, loss = 0.03528595\n",
      "Iteration 763, loss = 0.03589874\n",
      "Iteration 764, loss = 0.03479609\n",
      "Iteration 765, loss = 0.03491478\n",
      "Iteration 766, loss = 0.03502645\n",
      "Iteration 767, loss = 0.03447879\n",
      "Iteration 768, loss = 0.03551133\n",
      "Iteration 769, loss = 0.03445435\n",
      "Iteration 770, loss = 0.03463452\n",
      "Iteration 771, loss = 0.03451495\n",
      "Iteration 772, loss = 0.03469172\n",
      "Iteration 773, loss = 0.03436794\n",
      "Iteration 774, loss = 0.03358552\n",
      "Iteration 775, loss = 0.03446665\n",
      "Iteration 776, loss = 0.03367538\n",
      "Iteration 777, loss = 0.03327375\n",
      "Iteration 778, loss = 0.03370654\n",
      "Iteration 779, loss = 0.03401131\n",
      "Iteration 780, loss = 0.03401378\n",
      "Iteration 781, loss = 0.03353199\n",
      "Iteration 782, loss = 0.03334974\n",
      "Iteration 783, loss = 0.03398486\n",
      "Iteration 784, loss = 0.03380812\n",
      "Iteration 785, loss = 0.03316063\n",
      "Iteration 786, loss = 0.03375890\n",
      "Iteration 787, loss = 0.03267183\n",
      "Iteration 788, loss = 0.03258666\n",
      "Iteration 789, loss = 0.03251774\n",
      "Iteration 790, loss = 0.03273934\n",
      "Iteration 791, loss = 0.03314229\n",
      "Iteration 792, loss = 0.03288822\n",
      "Iteration 793, loss = 0.03438691\n",
      "Iteration 794, loss = 0.03333961\n",
      "Iteration 795, loss = 0.03201068\n",
      "Iteration 796, loss = 0.03196018\n",
      "Iteration 797, loss = 0.03185418\n",
      "Iteration 798, loss = 0.03191948\n",
      "Iteration 799, loss = 0.03236309\n",
      "Iteration 800, loss = 0.03217595\n",
      "Iteration 801, loss = 0.03245213\n",
      "Iteration 802, loss = 0.03134535\n",
      "Iteration 803, loss = 0.03129819\n",
      "Iteration 804, loss = 0.03157743\n",
      "Iteration 805, loss = 0.03175723\n",
      "Iteration 806, loss = 0.03155457\n",
      "Iteration 807, loss = 0.03169706\n",
      "Iteration 808, loss = 0.03199570\n",
      "Iteration 809, loss = 0.03126361\n",
      "Iteration 810, loss = 0.03116593\n",
      "Iteration 811, loss = 0.03044067\n",
      "Iteration 812, loss = 0.03118831\n",
      "Iteration 813, loss = 0.03108878\n",
      "Iteration 814, loss = 0.03074589\n",
      "Iteration 815, loss = 0.03059762\n",
      "Iteration 816, loss = 0.03166078\n",
      "Iteration 817, loss = 0.03042591\n",
      "Iteration 818, loss = 0.03059383\n",
      "Iteration 819, loss = 0.03040642\n",
      "Iteration 820, loss = 0.03065768\n",
      "Iteration 821, loss = 0.02967576\n",
      "Iteration 822, loss = 0.03034133\n",
      "Iteration 823, loss = 0.03023725\n",
      "Iteration 824, loss = 0.03041092\n",
      "Iteration 825, loss = 0.03051123\n",
      "Iteration 826, loss = 0.03022056\n",
      "Iteration 827, loss = 0.03058145\n",
      "Iteration 828, loss = 0.02956450\n",
      "Iteration 829, loss = 0.03025563\n",
      "Iteration 830, loss = 0.02975584\n",
      "Iteration 831, loss = 0.02979108\n",
      "Iteration 832, loss = 0.02897819\n",
      "Iteration 833, loss = 0.02916210\n",
      "Iteration 834, loss = 0.02934565\n",
      "Iteration 835, loss = 0.02930514\n",
      "Iteration 836, loss = 0.02966961\n",
      "Iteration 837, loss = 0.02883077\n",
      "Iteration 838, loss = 0.02954461\n",
      "Iteration 839, loss = 0.02875172\n",
      "Iteration 840, loss = 0.02875690\n",
      "Iteration 841, loss = 0.02858159\n",
      "Iteration 842, loss = 0.02936612\n",
      "Iteration 843, loss = 0.02868433\n",
      "Iteration 844, loss = 0.02832730\n",
      "Iteration 845, loss = 0.02875432\n",
      "Iteration 846, loss = 0.02825496\n",
      "Iteration 847, loss = 0.02913114\n",
      "Iteration 848, loss = 0.02817422\n",
      "Iteration 849, loss = 0.02857728\n",
      "Iteration 850, loss = 0.02764290\n",
      "Iteration 851, loss = 0.02818009\n",
      "Iteration 852, loss = 0.02776709\n",
      "Iteration 853, loss = 0.02787378\n",
      "Iteration 854, loss = 0.02821008\n",
      "Iteration 855, loss = 0.02779991\n",
      "Iteration 856, loss = 0.02814560\n",
      "Iteration 857, loss = 0.02758770\n",
      "Iteration 858, loss = 0.02764619\n",
      "Iteration 859, loss = 0.02791640\n",
      "Iteration 860, loss = 0.02759769\n",
      "Iteration 861, loss = 0.02737894\n",
      "Iteration 862, loss = 0.02701808\n",
      "Iteration 863, loss = 0.02713369\n",
      "Iteration 864, loss = 0.02688674\n",
      "Iteration 865, loss = 0.02664241\n",
      "Iteration 866, loss = 0.02803092\n",
      "Iteration 867, loss = 0.02666732\n",
      "Iteration 868, loss = 0.02728607\n",
      "Iteration 869, loss = 0.02637783\n",
      "Iteration 870, loss = 0.02658173\n",
      "Iteration 871, loss = 0.02646386\n",
      "Iteration 872, loss = 0.02629603\n",
      "Iteration 873, loss = 0.02675216\n",
      "Iteration 874, loss = 0.02620671\n",
      "Iteration 875, loss = 0.02652013\n",
      "Iteration 876, loss = 0.02620627\n",
      "Iteration 877, loss = 0.02699035\n",
      "Iteration 878, loss = 0.02620836\n",
      "Iteration 879, loss = 0.02684729\n",
      "Iteration 880, loss = 0.02627007\n",
      "Training loss did not improve more than tol=0.000100 for 10 consecutive epochs. Stopping.\n"
     ]
    }
   ],
   "source": [
    "# use best architecture and params from before\n",
    "\n",
    "mlp_best_large = MLPClassifier(max_iter= 10000, alpha=1e-4, solver='sgd', \n",
    "                       hidden_layer_sizes = best_hidd_lay_size,\n",
    "                       batch_size = best_batch_size,\n",
    "                       tol=1e-4, random_state=ID,\n",
    "                       learning_rate_init = best_lr,\n",
    "                       verbose=True)\n",
    "mlp_best_large.fit(X_train,y_train)\n",
    "\n",
    "training_error_large = 1. - mlp_best_large.score(X_train,y_train)\n",
    "test_error_large = 1. - mlp_best_large.score(X_test,y_test)"
   ]
  },
  {
   "cell_type": "code",
   "execution_count": 17,
   "metadata": {},
   "outputs": [
    {
     "name": "stdout",
     "output_type": "stream",
     "text": [
      "RESULTS FOR NN\n",
      "\n",
      "NN training error: 0.001800\n",
      "NN test error: 0.174091\n"
     ]
    }
   ],
   "source": [
    "print ('RESULTS FOR NN\\n')\n",
    "print (\"NN training error: %f\" % training_error_large)\n",
    "print (\"NN test error: %f\" % test_error_large)"
   ]
  },
  {
   "cell_type": "markdown",
   "metadata": {},
   "source": [
    "## QUESTION 3\n",
    "Compare the train and test errors you got with a large number of samples with the best one you obtained with only 600 data points. Comment about the results you obtained."
   ]
  },
  {
   "cell_type": "markdown",
   "metadata": {},
   "source": [
    "## [ANSWER TO QUESTION 3]"
   ]
  },
  {
   "cell_type": "markdown",
   "metadata": {},
   "source": [
    "### TO DO 7\n",
    "\n",
    "Plot an example that was missclassified by NN with m=600 training data points and it is now instead correctly classified by NN with m=5000 training data points."
   ]
  },
  {
   "cell_type": "code",
   "execution_count": 18,
   "metadata": {},
   "outputs": [
    {
     "name": "stdout",
     "output_type": "stream",
     "text": [
      "INPUT:\n"
     ]
    },
    {
     "data": {
      "image/png": "[encoded data removed]",
      "text/plain": [
       "<Figure size 432x288 with 1 Axes>"
      ]
     },
     "metadata": {
      "needs_background": "light"
     },
     "output_type": "display_data"
    },
    {
     "name": "stdout",
     "output_type": "stream",
     "text": [
      "LABEL: 4\n",
      "29299  index was not correctly classified by NN with smaller dataset and now is correctly classified by NN with larger dataset.\n"
     ]
    }
   ],
   "source": [
    "NN_prediction = mlp_best.predict(X_test)\n",
    "large_NN_prediction = mlp_best_large.predict(X_test)\n",
    "\n",
    "miscl_samples = [i for i in range(len(NN_prediction)) if (NN_prediction[i] != large_NN_prediction[i]) and (large_NN_prediction[i] == y_test[i]) ]\n",
    "\n",
    "rand = np.random.choice(miscl_samples)\n",
    "plot_input(X_test,y_test,rand)\n",
    "\n",
    "print(rand, \" index was not correctly classified by NN with smaller dataset and now is correctly classified by NN with larger dataset.\")\n",
    "        "
   ]
  },
  {
   "cell_type": "markdown",
   "metadata": {},
   "source": [
    "### TO DO 8\n",
    "\n",
    "Let's plot the weigths of the multi-layer perceptron classifier, for the best NN we get with 600 data points and with 5000 data points. The code is already provided, just fix variable names (e.g., replace mlp ,  mlp_large with your estimators) in order to have it working with your implementation\n",
    "\n"
   ]
  },
  {
   "cell_type": "code",
   "execution_count": 19,
   "metadata": {},
   "outputs": [
    {
     "name": "stdout",
     "output_type": "stream",
     "text": [
      "Weights with 600 data points:\n"
     ]
    },
    {
     "data": {
      "image/png": "[encoded data removed]",
      "text/plain": [
       "<Figure size 432x288 with 16 Axes>"
      ]
     },
     "metadata": {},
     "output_type": "display_data"
    },
    {
     "name": "stdout",
     "output_type": "stream",
     "text": [
      "Weights with 5000 data points:\n"
     ]
    },
    {
     "data": {
      "image/png": "[encoded data removed]",
      "text/plain": [
       "<Figure size 432x288 with 16 Axes>"
      ]
     },
     "metadata": {},
     "output_type": "display_data"
    }
   ],
   "source": [
    "# The code is already provided, fix variable names in order to have it working with your implementation\n",
    "\n",
    "print(\"Weights with 600 data points:\")\n",
    "\n",
    "fig, axes = plt.subplots(4, 4)\n",
    "vmin, vmax = mlp_best.coefs_[0].min(), mlp_best.coefs_[0].max()\n",
    "for coef, ax in zip(mlp_best.coefs_[0].T, axes.ravel()):\n",
    "    ax.matshow(coef.reshape(28, 28), cmap=plt.cm.gray, vmin=.5 * vmin,\n",
    "               vmax=.5 * vmax)\n",
    "    ax.set_xticks(())\n",
    "    ax.set_yticks(())\n",
    "\n",
    "plt.show()\n",
    "\n",
    "print(\"Weights with 5000 data points:\")\n",
    "\n",
    "fig, axes = plt.subplots(4, 4)\n",
    "vmin, vmax = mlp_best_large.coefs_[0].min(), mlp_best_large.coefs_[0].max()\n",
    "for coef, ax in zip(mlp_best_large.coefs_[0].T, axes.ravel()):\n",
    "    ax.matshow(coef.reshape(28, 28), cmap=plt.cm.gray, vmin=.5 * vmin,\n",
    "               vmax=.5 * vmax)\n",
    "    ax.set_xticks(())\n",
    "    ax.set_yticks(())\n",
    "plt.show()"
   ]
  },
  {
   "cell_type": "markdown",
   "metadata": {},
   "source": [
    "## QUESTION 4\n",
    "\n",
    "Describe what do you observe by looking at the weights"
   ]
  },
  {
   "cell_type": "markdown",
   "metadata": {},
   "source": [
    "## [ANSWER TO QUESTION 4]"
   ]
  },
  {
   "cell_type": "markdown",
   "metadata": {},
   "source": [
    "### TO DO 9\n",
    "\n",
    "Report the best SVM model and its parameters, you found in the last notebook (or check out the solution on the moodle webpage of the course). Fit it on a few data points and compute its training and test scores."
   ]
  },
  {
   "cell_type": "code",
   "execution_count": 20,
   "metadata": {},
   "outputs": [],
   "source": [
    "# use best parameters found in the SVM notebook, create SVM and perform fitting\n",
    "\n",
    "best_SVM = SVC(kernel = 'rbf', C = 50, gamma = 0.005)\n",
    "best_SVM.fit(X_train, y_train)\n",
    "SVM_prediction = best_SVM.predict(X_test)\n",
    "\n",
    "SVM_training_error = 1. - best_SVM.score(X_train,y_train)\n",
    "SVM_test_error = 1. - best_SVM.score(X_test,y_test)"
   ]
  },
  {
   "cell_type": "code",
   "execution_count": 21,
   "metadata": {},
   "outputs": [
    {
     "name": "stdout",
     "output_type": "stream",
     "text": [
      "RESULTS FOR SVM\n",
      "Training error SVM: 0.0030000000000000027\n",
      "Test error SVM: 0.1472181818181818\n",
      "\n",
      "RESULTS FOR NN (larger dataset)\n",
      "NN training error: 0.0018000000000000238\n",
      "NN test error: 0.17409090909090907\n",
      "\n",
      "RESULTS FOR NN (smaller dataset)\n",
      "NN training error: 0.0\n",
      "NN test error: 0.2126767676767677\n"
     ]
    }
   ],
   "source": [
    "print('RESULTS FOR SVM')\n",
    "print(\"Training error SVM:\", SVM_training_error)\n",
    "print(\"Test error SVM:\", SVM_test_error)\n",
    "\n",
    "print('\\nRESULTS FOR NN (larger dataset)')\n",
    "print(\"NN training error:\", training_error_large)\n",
    "print(\"NN test error:\", test_error_large )\n",
    "\n",
    "print('\\nRESULTS FOR NN (smaller dataset)')\n",
    "print(\"NN training error:\", training_error)\n",
    "print(\"NN test error:\", test_error )"
   ]
  },
  {
   "cell_type": "code",
   "execution_count": 26,
   "metadata": {},
   "outputs": [
    {
     "name": "stdout",
     "output_type": "stream",
     "text": [
      "\n",
      " Confusion matrix SVM\n"
     ]
    },
    {
     "data": {
      "image/png": "[encoded data removed]",
      "text/plain": [
       "<Figure size 648x432 with 2 Axes>"
      ]
     },
     "metadata": {
      "needs_background": "light"
     },
     "output_type": "display_data"
    },
    {
     "name": "stdout",
     "output_type": "stream",
     "text": [
      "\n",
      " Confusion matrix NN (smaller dataset)\n"
     ]
    },
    {
     "data": {
      "image/png": "[encoded data removed]",
      "text/plain": [
       "<Figure size 648x432 with 2 Axes>"
      ]
     },
     "metadata": {
      "needs_background": "light"
     },
     "output_type": "display_data"
    },
    {
     "name": "stdout",
     "output_type": "stream",
     "text": [
      "\n",
      " Confusion matrix NN (larger dataset)\n"
     ]
    },
    {
     "data": {
      "image/png": "[encoded data removed]",
      "text/plain": [
       "<Figure size 648x432 with 2 Axes>"
      ]
     },
     "metadata": {
      "needs_background": "light"
     },
     "output_type": "display_data"
    }
   ],
   "source": [
    "import sklearn.metrics as skm\n",
    "\n",
    "u, counts = np.unique(y_test, return_counts=True)\n",
    "confusion_SVM = skm.confusion_matrix( SVM_prediction, y_test)\n",
    "confusion_NN = skm.confusion_matrix( NN_prediction, y_test)\n",
    "confusion_NN_large = skm.confusion_matrix( large_NN_prediction, y_test)\n",
    "\n",
    "print(\"\\n Confusion matrix SVM\")\n",
    "plt.figure(figsize = (9,6))\n",
    "sns.heatmap(confusion_SVM/counts[:,None], annot=True, fmt = \"1.2f\" , cmap=\"Reds\" )\n",
    "plt.show()\n",
    "\n",
    "print(\"\\n Confusion matrix NN (smaller dataset)\")\n",
    "plt.figure(figsize = (9,6))\n",
    "sns.heatmap(confusion_NN/counts[:,None], annot=True, fmt =  \"1.2f\" , cmap=\"Greens\" )\n",
    "plt.show()\n",
    "\n",
    "print(\"\\n Confusion matrix NN (larger dataset)\")\n",
    "plt.figure(figsize = (9,6))\n",
    "sns.heatmap(confusion_NN_large/counts[:,None], annot=True, fmt =  \"1.2f\" , cmap=\"Blues\" )\n",
    "plt.show()"
   ]
  },
  {
   "cell_type": "markdown",
   "metadata": {
    "collapsed": true
   },
   "source": [
    "## QUESTION 5\n",
    "Compare the results of SVM and of NN. Which one would you prefer? "
   ]
  },
  {
   "cell_type": "markdown",
   "metadata": {},
   "source": [
    "## [ANSWER TO QUESTION 5]"
   ]
  },
  {
   "cell_type": "code",
   "execution_count": null,
   "metadata": {},
   "outputs": [],
   "source": []
  }
 ],
 "metadata": {
  "kernelspec": {
   "display_name": "Python 3",
   "language": "python",
   "name": "python3"
  },
  "language_info": {
   "codemirror_mode": {
    "name": "ipython",
    "version": 3
   },
   "file_extension": ".py",
   "mimetype": "text/x-python",
   "name": "python",
   "nbconvert_exporter": "python",
   "pygments_lexer": "ipython3",
   "version": "3.7.3"
  }
 },
 "nbformat": 4,
 "nbformat_minor": 2
}
